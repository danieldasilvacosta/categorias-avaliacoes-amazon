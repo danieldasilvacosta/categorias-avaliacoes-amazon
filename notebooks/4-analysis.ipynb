{
 "cells": [
  {
   "cell_type": "markdown",
   "id": "91ea8823-8ac5-4457-9a16-65880f59f7d0",
   "metadata": {
    "tags": []
   },
   "source": [
    "## Importing all needed packages\n",
    "\n",
    "#### Command to install **spaCy** package: ***pip install spacy***\n"
   ]
  },
  {
   "cell_type": "code",
   "execution_count": 1,
   "id": "d4fdcbda-d21a-49c8-8aa9-dac93fb9197f",
   "metadata": {},
   "outputs": [],
   "source": [
    "import pandas as pd\n",
    "from wordcloud import WordCloud\n",
    "import matplotlib.pyplot as plt\n",
    "import time\n",
    "import spacy\n",
    "from tqdm import tqdm "
   ]
  },
  {
   "cell_type": "markdown",
   "id": "97b42c8c-24ec-4e62-8108-d3e6741b36e8",
   "metadata": {
    "tags": []
   },
   "source": [
    "## First Analysis"
   ]
  },
  {
   "cell_type": "markdown",
   "id": "2b4293a0-6a50-475e-b984-b7701bddef16",
   "metadata": {
    "jp-MarkdownHeadingCollapsed": true,
    "tags": []
   },
   "source": [
    "### Mechanism to hidden some words from analysis."
   ]
  },
  {
   "cell_type": "code",
   "execution_count": null,
   "id": "69d13791-282a-498c-82d6-6ba740d09443",
   "metadata": {},
   "outputs": [],
   "source": [
    "# SHOW_USELESS_WORDS = True\n",
    "SHOW_USELESS_WORDS = False"
   ]
  },
  {
   "cell_type": "code",
   "execution_count": null,
   "id": "e21660c7-0403-444f-a6ec-55c112d816ea",
   "metadata": {},
   "outputs": [],
   "source": [
    "uselessWords = {\n",
    "    'o', 'a', 'os', 'as', \n",
    "    'um', 'uma', 'uns', 'umas', \n",
    "    'e',\n",
    "    'de', 'do', 'da',\n",
    "    'sobre',\n",
    "    'ma',\n",
    "    'lo', 'la'\n",
    "    'que',\n",
    "    'se',\n",
    "    'em',\n",
    "    'com',\n",
    "    'é',\n",
    "    'que'\n",
    "}\n",
    "# uselessWords"
   ]
  },
  {
   "cell_type": "markdown",
   "id": "1cbfe6c7-81a3-4556-94f6-7e8321bd29d3",
   "metadata": {
    "tags": []
   },
   "source": [
    "### Loading into a dataframe the content of the dataset (CSV file)"
   ]
  },
  {
   "cell_type": "code",
   "execution_count": null,
   "id": "76a67068-859f-4d12-b2fd-417b1941d3c7",
   "metadata": {},
   "outputs": [],
   "source": [
    "rawDf = pd.read_csv( \n",
    "    './datasets/treated_csv_file.csv',\n",
    "    encoding = 'UTF8',\n",
    "    sep = ';');\n",
    "rawDf.head()"
   ]
  },
  {
   "cell_type": "code",
   "execution_count": null,
   "id": "2448e358-0c07-4923-9279-8aa1ff5c0185",
   "metadata": {},
   "outputs": [],
   "source": [
    "len(rawDf)"
   ]
  },
  {
   "cell_type": "markdown",
   "id": "2e4b83e9-87eb-42f9-b7fd-8c6e5a04498f",
   "metadata": {
    "jp-MarkdownHeadingCollapsed": true,
    "tags": []
   },
   "source": [
    "### Some manipulation to the strings.\n",
    "\n",
    "- lower case\n",
    "- replace some symbols"
   ]
  },
  {
   "cell_type": "code",
   "execution_count": null,
   "id": "95b514dc-0ddd-4b34-81e1-492d0f2e4664",
   "metadata": {},
   "outputs": [],
   "source": [
    "df = rawDf['review_text'].str.lower()\n",
    "df.head()"
   ]
  },
  {
   "cell_type": "code",
   "execution_count": null,
   "id": "ae4a7062-5929-49d8-aee5-5a20f224455a",
   "metadata": {},
   "outputs": [],
   "source": [
    "df[1]"
   ]
  },
  {
   "cell_type": "code",
   "execution_count": null,
   "id": "9c501061-c492-4c59-9adc-67884e69207d",
   "metadata": {},
   "outputs": [],
   "source": [
    "def cleanWord( word ):\n",
    "    \n",
    "    word = word.replace(',', '')\n",
    "    word = word.replace('.', '')\n",
    "    word = word.replace('❤', '')\n",
    "    word = word.replace('💜', '')\n",
    "\n",
    "    return word"
   ]
  },
  {
   "cell_type": "markdown",
   "id": "8d9b8eb4-2292-47db-bab5-11b8596344df",
   "metadata": {
    "jp-MarkdownHeadingCollapsed": true,
    "tags": []
   },
   "source": [
    "### Creating a list with all unique words to use further."
   ]
  },
  {
   "cell_type": "code",
   "execution_count": null,
   "id": "4ff9c490-adf4-425e-ae7f-cb0e73a0726a",
   "metadata": {},
   "outputs": [],
   "source": [
    "# For time counting\n",
    "startTime = time.time()\n",
    "\n",
    "allWords = list()\n",
    "words = list()\n",
    "\n",
    "for review in df:\n",
    "    \n",
    "#     print(review)\n",
    "    rawWords = str(review).split()\n",
    "    \n",
    "    for word in rawWords:\n",
    "        word = cleanWord( word )\n",
    "        \n",
    "        if word not in words:\n",
    "            words.append( word )\n",
    "\n",
    "if not SHOW_USELESS_WORDS:\n",
    "    \n",
    "    for word in words:\n",
    "        if word in uselessWords:\n",
    "            continue\n",
    "        else:\n",
    "            allWords.append( word )\n",
    "        \n",
    "else: \n",
    "    allWords = words\n",
    "    \n",
    "# allWords\n",
    "\n",
    "# For time counting\n",
    "endTime = time.time()\n",
    "elapsedTime = endTime - startTime\n",
    "print( f'Running Time: {elapsedTime / 60} minutes' )"
   ]
  },
  {
   "cell_type": "markdown",
   "id": "ea0b77f3-e767-450f-b857-c1e7f1bbecd8",
   "metadata": {
    "jp-MarkdownHeadingCollapsed": true,
    "tags": []
   },
   "source": [
    "### Total of unique words."
   ]
  },
  {
   "cell_type": "code",
   "execution_count": null,
   "id": "008b3af8-c013-40e1-a419-b5c4893d94c5",
   "metadata": {},
   "outputs": [],
   "source": [
    "print( 'List size: {}'.format( len(allWords) ) )"
   ]
  },
  {
   "cell_type": "markdown",
   "id": "82f69c29-8067-435b-9579-5155559d4e22",
   "metadata": {
    "jp-MarkdownHeadingCollapsed": true,
    "tags": []
   },
   "source": [
    "### Build a word cloud with all unique words."
   ]
  },
  {
   "cell_type": "code",
   "execution_count": null,
   "id": "2e4c8b00-4f99-41f4-a4ae-01a9dd7b7409",
   "metadata": {},
   "outputs": [],
   "source": [
    "allJoinedWords = \" \".join( allWords ) + \" \"\n",
    "\n",
    "if SHOW_USELESS_WORDS:\n",
    "\n",
    "    wordcloud = WordCloud(\n",
    "        width = 800, \n",
    "        height = 800,\n",
    "        background_color ='white',\n",
    "        min_font_size = 10\n",
    "    ).generate( allJoinedWords )\n",
    "    \n",
    "else:\n",
    "    \n",
    "    wordcloud = WordCloud(\n",
    "        width = 800, \n",
    "        height = 800,\n",
    "        background_color ='white',\n",
    "        stopwords = uselessWords,\n",
    "        min_font_size = 12\n",
    "    ).generate( allJoinedWords )\n",
    "\n",
    "# plot the WordCloud image                      \n",
    "plt.figure(figsize = (8, 8), facecolor = None)\n",
    "plt.imshow(wordcloud)\n",
    "plt.axis(\"off\")\n",
    "plt.tight_layout(pad = 0)\n",
    " \n",
    "plt.show()"
   ]
  },
  {
   "cell_type": "markdown",
   "id": "19b40468-3827-4c93-81e8-ab369b4cfe1b",
   "metadata": {
    "tags": []
   },
   "source": [
    "### Seeing the words and each total in a table way."
   ]
  },
  {
   "cell_type": "code",
   "execution_count": null,
   "id": "8b370bc3-ecae-4bd8-9aea-40e8e0666042",
   "metadata": {},
   "outputs": [],
   "source": [
    "allWordsDict = {}\n",
    "for review in df:\n",
    "    \n",
    "    # print(review)\n",
    "    \n",
    "    words = str(review).split()\n",
    "    # print(words)\n",
    "    \n",
    "    for word in words:\n",
    "        \n",
    "        if (not SHOW_USELESS_WORDS) and (word in uselessWords):\n",
    "            continue\n",
    "        \n",
    "        word = cleanWord( word )\n",
    "        \n",
    "        if word not in allWordsDict.keys():\n",
    "            \n",
    "            allWordsDict[word] = 1\n",
    "            \n",
    "        else:\n",
    "            \n",
    "            allWordsDict[word] += 1\n",
    "\n",
    "# print( allWordsDict )"
   ]
  },
  {
   "cell_type": "code",
   "execution_count": null,
   "id": "0f91aed0-f00f-494c-90d2-94036846e4de",
   "metadata": {},
   "outputs": [],
   "source": [
    "allWordsDF = pd.DataFrame()\n",
    "\n",
    "allWordsDF[ 'word' ] = allWordsDict.keys()\n",
    "allWordsDF[ 'count' ] = allWordsDict.values()\n",
    "\n",
    "allWordsDF.head(10)"
   ]
  },
  {
   "cell_type": "code",
   "execution_count": null,
   "id": "ad7275ae-64ac-438e-ae1f-a744af59147c",
   "metadata": {
    "tags": []
   },
   "outputs": [],
   "source": [
    "allWordsDF.sort_values(\n",
    "    by = 'count',\n",
    "    ascending = 0)"
   ]
  },
  {
   "cell_type": "markdown",
   "id": "84f752fe-91fe-412e-ad39-50f93f9fdbf9",
   "metadata": {
    "tags": []
   },
   "source": [
    "## Second Analysis\n",
    "\n",
    "#### Using Spacy and K-Means to analyze the tokens and try to group the contained sentences in each review."
   ]
  },
  {
   "cell_type": "markdown",
   "id": "7e0ecac5-c88d-4b38-93db-5c126d1772c7",
   "metadata": {},
   "source": [
    "### Installing and loading the Portuguese pipeline.\n",
    "#### To install Portuguese pipeline by command line, type: *python -m spacy download pt_core_news_lg*\n",
    "#### See more on: https://spacy.io/models/pt#pt_core_news_lg\n"
   ]
  },
  {
   "cell_type": "code",
   "execution_count": null,
   "id": "f2acd50b-fcba-4607-9d5c-3b6cd2320f3c",
   "metadata": {},
   "outputs": [],
   "source": [
    "nlp = spacy.load('pt_core_news_lg') # https://spacy.io/models/pt#pt_core_news_lg"
   ]
  },
  {
   "cell_type": "code",
   "execution_count": null,
   "id": "fa3982a7-5ad4-4a10-881b-930a75ed77c1",
   "metadata": {},
   "outputs": [],
   "source": [
    "df = rawDf\n",
    "df.head()"
   ]
  },
  {
   "cell_type": "markdown",
   "id": "63906924-38fd-4d7c-a264-9b66d1c9d352",
   "metadata": {},
   "source": [
    "### Some values in the *review_text* column are *nan* so I changed the values to an empty string to avoid breaking the program when reading each item to extract the sentences.\n",
    "\n",
    "One example:\n",
    "\n",
    "|book_id|review_id|review_rating|review_title|review_text|\n",
    "|:------|:------:|:------:|:------|:------:|\n",
    "|8547000240|R1QX38W7D6QOQ4|5<!-- .element: style=\"text-align:center;\" -->|livro maravilhoso, ainda estou acabando de ler mais posso afirma que e espetacular.|nan|"
   ]
  },
  {
   "cell_type": "code",
   "execution_count": null,
   "id": "3ff2b6d5-dc31-4520-aabf-9e371f092e29",
   "metadata": {},
   "outputs": [],
   "source": [
    "df['review_text'] = df['review_text'].fillna('')"
   ]
  },
  {
   "cell_type": "code",
   "execution_count": null,
   "id": "11aaa420-f1bc-4718-8634-104f5828accb",
   "metadata": {},
   "outputs": [],
   "source": [
    "df['review_text'].isnull().values.any()"
   ]
  },
  {
   "cell_type": "code",
   "execution_count": null,
   "id": "8e92e406-ad43-40f5-b7cc-afddf441120d",
   "metadata": {},
   "outputs": [],
   "source": [
    "reviewPosition = 1"
   ]
  },
  {
   "cell_type": "code",
   "execution_count": null,
   "id": "ecbe6a50-15c8-4f9a-b2f9-b2446e151487",
   "metadata": {},
   "outputs": [],
   "source": [
    "df.iloc[reviewPosition]"
   ]
  },
  {
   "cell_type": "code",
   "execution_count": null,
   "id": "bc33f7aa-ab03-4d3b-a4b9-aa84b74ace3e",
   "metadata": {},
   "outputs": [],
   "source": [
    "doc = nlp( u''.join(df.iloc[reviewPosition]['review_text']) )\n",
    "doc"
   ]
  },
  {
   "cell_type": "code",
   "execution_count": null,
   "id": "f22009a2-494e-4001-8f28-bda3a4221bf2",
   "metadata": {},
   "outputs": [],
   "source": [
    "totalTokensToPrint = 30\n",
    "\n",
    "print( f'Printing the first {totalTokensToPrint}th tokens:\\n' )\n",
    "\n",
    "for token in doc[0:totalTokensToPrint]:\n",
    "    print( f'{token.text:{15}} {spacy.explain(token.pos_):{30}} {token.lemma_:{15}}' )"
   ]
  },
  {
   "cell_type": "code",
   "execution_count": null,
   "id": "799ae47f-a3c6-4485-9433-96fcffbb2d19",
   "metadata": {},
   "outputs": [],
   "source": [
    "for sentence in doc.sents:\n",
    "    \n",
    "    print( f'{sentence}' )\n",
    "    print( f'--- Sentence size: {len(sentence)}' )\n",
    "    print()"
   ]
  },
  {
   "cell_type": "markdown",
   "id": "2d6eeb41-00f3-4bb3-b678-0b3a92e8fb48",
   "metadata": {
    "jp-MarkdownHeadingCollapsed": true,
    "tags": []
   },
   "source": [
    "### Building a dataframe of sentences and building a new dataset of sentences."
   ]
  },
  {
   "cell_type": "code",
   "execution_count": null,
   "id": "c0e11962-981b-453c-9fd7-1b2629d7221b",
   "metadata": {},
   "outputs": [],
   "source": [
    "# # totalReviews = 10\n",
    "# # totalReviews = 10000\n",
    "# # i = 0\n",
    "\n",
    "# # For time counting\n",
    "# startTime = time.time()\n",
    "\n",
    "# csvFile = './datasets/sentences.csv'\n",
    "# csvDF = pd.DataFrame(columns = [\n",
    "#     'book_id', \n",
    "#     'review_id', \n",
    "#     'review_rating', \n",
    "#     # 'review_title', \n",
    "#     'sentence'\n",
    "# ]) \n",
    "\n",
    "# # for index in tqdm( range(0, totalReviews), desc=\"Progress\", ncols=100 ):\n",
    "# for index in tqdm( range(0, len(df)), desc=\"Progress\", ncols=100 ):\n",
    "    \n",
    "#     review = df.iloc[index]\n",
    "        \n",
    "#     # print( f\"- Book ID: {review['book_id']}\" )\n",
    "#     # print( f\"- Review ID: {review['review_id']}\" )\n",
    "#     # print( f\"- Review Rating: {review['review_rating']}\" )\n",
    "#     # print( f\"- Review Title: {review['review_title']}\" )\n",
    "#     # print( f\"- Review Text: {review['review_text']}\" )\n",
    "#     # print()\n",
    "    \n",
    "#     doc = nlp( u''.join( review['review_text'] ) )\n",
    "#     # print(doc[0])\n",
    "#     # print()\n",
    "    \n",
    "#     # print( '- Sentences' )\n",
    "#     # print()\n",
    "    \n",
    "#     for sentence in doc.sents:\n",
    "    \n",
    "#         # print( f'{sentence}' )\n",
    "#         # print( f'--- Sentence size: {len(sentence)}' )\n",
    "#         # print()\n",
    "        \n",
    "#         row = {\n",
    "#             'book_id': review['book_id'],\n",
    "#             'review_id': review['review_id'],\n",
    "#             'review_rating': review['review_rating'],\n",
    "#             # 'review_title': review['review_title'],\n",
    "#             'sentence': sentence\n",
    "#         }\n",
    "#         csvDF.loc[ len(csvDF), csvDF.columns ] = row\n",
    "        \n",
    "#         # print(i)\n",
    "#         # print( f\"review_id: {review['review_id']}\" )\n",
    "#         # print(sentence)\n",
    "#         # print()\n",
    "        \n",
    "#         # i = i + 1\n",
    "    \n",
    "#     # print('\\n======================================= Another Review =======================================\\n\\n')\n",
    "    \n",
    "# csvDF.to_csv(\n",
    "#     csvFile, \n",
    "#     encoding = 'utf-8', \n",
    "#     index = False,\n",
    "#     sep=';'\n",
    "# )\n",
    "# # print( csvDF )\n",
    "\n",
    "# print('======================================================================')\n",
    "# print('Finished')\n",
    "\n",
    "# # For time counting\n",
    "# endTime = time.time()\n",
    "# elapsedTime = endTime - startTime\n",
    "# print( f'Running Time: {elapsedTime / 60} minutes' )"
   ]
  },
  {
   "cell_type": "markdown",
   "id": "1227a91f-f463-41ce-9235-87803576bb1b",
   "metadata": {},
   "source": [
    "### Building a Bag of Words (BoW) with the words of the sentences."
   ]
  },
  {
   "cell_type": "code",
   "execution_count": 2,
   "id": "1677201e-7e1e-4b80-80c6-01d3259f314e",
   "metadata": {},
   "outputs": [],
   "source": [
    "nlp = spacy.load('pt_core_news_lg') # https://spacy.io/models/pt#pt_core_news_lg"
   ]
  },
  {
   "cell_type": "code",
   "execution_count": 3,
   "id": "59d7a9fb-e08c-4c5e-9a67-f44606c66cc8",
   "metadata": {},
   "outputs": [
    {
     "data": {
      "text/html": [
       "<div>\n",
       "<style scoped>\n",
       "    .dataframe tbody tr th:only-of-type {\n",
       "        vertical-align: middle;\n",
       "    }\n",
       "\n",
       "    .dataframe tbody tr th {\n",
       "        vertical-align: top;\n",
       "    }\n",
       "\n",
       "    .dataframe thead th {\n",
       "        text-align: right;\n",
       "    }\n",
       "</style>\n",
       "<table border=\"1\" class=\"dataframe\">\n",
       "  <thead>\n",
       "    <tr style=\"text-align: right;\">\n",
       "      <th></th>\n",
       "      <th>book_id</th>\n",
       "      <th>review_id</th>\n",
       "      <th>review_rating</th>\n",
       "      <th>sentence</th>\n",
       "    </tr>\n",
       "  </thead>\n",
       "  <tbody>\n",
       "    <tr>\n",
       "      <th>0</th>\n",
       "      <td>8595081530</td>\n",
       "      <td>RM0NBXMBSU4M3</td>\n",
       "      <td>4</td>\n",
       "      <td>Sabe todos aqueles livros que ensinam você a c...</td>\n",
       "    </tr>\n",
       "    <tr>\n",
       "      <th>1</th>\n",
       "      <td>8595081530</td>\n",
       "      <td>RM0NBXMBSU4M3</td>\n",
       "      <td>4</td>\n",
       "      <td>Ou daqueles que você termina a leitura sentind...</td>\n",
       "    </tr>\n",
       "    <tr>\n",
       "      <th>2</th>\n",
       "      <td>8595081530</td>\n",
       "      <td>RM0NBXMBSU4M3</td>\n",
       "      <td>4</td>\n",
       "      <td>Você NÃO vai encontrar um setup milagroso, ou ...</td>\n",
       "    </tr>\n",
       "    <tr>\n",
       "      <th>3</th>\n",
       "      <td>8595081530</td>\n",
       "      <td>RM0NBXMBSU4M3</td>\n",
       "      <td>4</td>\n",
       "      <td>Basicamente este livro conta verdades sobre o ...</td>\n",
       "    </tr>\n",
       "    <tr>\n",
       "      <th>4</th>\n",
       "      <td>8595081530</td>\n",
       "      <td>RM0NBXMBSU4M3</td>\n",
       "      <td>4</td>\n",
       "      <td>Mostra os detalhes de uma forma tão direta e b...</td>\n",
       "    </tr>\n",
       "  </tbody>\n",
       "</table>\n",
       "</div>"
      ],
      "text/plain": [
       "      book_id      review_id  review_rating  \\\n",
       "0  8595081530  RM0NBXMBSU4M3              4   \n",
       "1  8595081530  RM0NBXMBSU4M3              4   \n",
       "2  8595081530  RM0NBXMBSU4M3              4   \n",
       "3  8595081530  RM0NBXMBSU4M3              4   \n",
       "4  8595081530  RM0NBXMBSU4M3              4   \n",
       "\n",
       "                                            sentence  \n",
       "0  Sabe todos aqueles livros que ensinam você a c...  \n",
       "1  Ou daqueles que você termina a leitura sentind...  \n",
       "2  Você NÃO vai encontrar um setup milagroso, ou ...  \n",
       "3  Basicamente este livro conta verdades sobre o ...  \n",
       "4  Mostra os detalhes de uma forma tão direta e b...  "
      ]
     },
     "execution_count": 3,
     "metadata": {},
     "output_type": "execute_result"
    }
   ],
   "source": [
    "df = pd.read_csv( \n",
    "    './datasets/sentences.csv',\n",
    "    encoding = 'UTF8',\n",
    "    sep = ';');\n",
    "df.head()"
   ]
  },
  {
   "cell_type": "code",
   "execution_count": 4,
   "id": "08bb3758-b851-405c-bdda-2e74cafc6ff8",
   "metadata": {},
   "outputs": [
    {
     "data": {
      "text/plain": [
       "'Sabe todos aqueles livros que ensinam você a criar uma agenda para controle de gastos contendo tudo que você gasta durante determinado período de tempo e que você nunca consegue terminar o tal método?'"
      ]
     },
     "execution_count": 4,
     "metadata": {},
     "output_type": "execute_result"
    }
   ],
   "source": [
    "df.iloc[0]['sentence']"
   ]
  },
  {
   "cell_type": "code",
   "execution_count": 5,
   "id": "ef5be645-f352-4300-bad0-f581368ffa1d",
   "metadata": {},
   "outputs": [
    {
     "name": "stdout",
     "output_type": "stream",
     "text": [
      "['Sabe', 'todos', 'aqueles', 'livros', 'que', 'ensinam', 'você', 'a', 'criar', 'uma', 'agenda', 'para', 'controle', 'de', 'gastos', 'contendo', 'tudo', 'que', 'você', 'gasta', 'durante', 'determinado', 'período', 'de', 'tempo', 'e', 'que', 'você', 'nunca', 'consegue', 'terminar', 'o', 'tal', 'método', '?']\n"
     ]
    }
   ],
   "source": [
    "doc = nlp( df.iloc[0]['sentence'] )\n",
    "tokens = [token.text for token in doc]\n",
    "print(tokens)"
   ]
  },
  {
   "cell_type": "code",
   "execution_count": 6,
   "id": "97a39058-5d00-42e3-861a-1d8238990e23",
   "metadata": {},
   "outputs": [
    {
     "name": "stdout",
     "output_type": "stream",
     "text": [
      "['Sabe', 'todo', 'aquele', 'livro', 'que', 'ensinar', 'você', 'o', 'criar', 'umar', 'agendar', 'parir', 'controlo', 'de', 'gasto', 'conter', 'tudo', 'que', 'você', 'gasto', 'durante', 'determinar', 'período', 'de', 'tempo', 'e', 'que', 'você', 'nunca', 'conseguir', 'terminar', 'o', 'tal', 'método', '?']\n"
     ]
    }
   ],
   "source": [
    "tokens = [token.lemma_ for token in doc]\n",
    "print(tokens)"
   ]
  },
  {
   "cell_type": "code",
   "execution_count": 7,
   "id": "537fe465-027b-47f6-b13a-96fb8639581c",
   "metadata": {},
   "outputs": [
    {
     "data": {
      "text/html": [
       "<div>\n",
       "<style scoped>\n",
       "    .dataframe tbody tr th:only-of-type {\n",
       "        vertical-align: middle;\n",
       "    }\n",
       "\n",
       "    .dataframe tbody tr th {\n",
       "        vertical-align: top;\n",
       "    }\n",
       "\n",
       "    .dataframe thead th {\n",
       "        text-align: right;\n",
       "    }\n",
       "</style>\n",
       "<table border=\"1\" class=\"dataframe\">\n",
       "  <thead>\n",
       "    <tr style=\"text-align: right;\">\n",
       "      <th></th>\n",
       "      <th>book_id</th>\n",
       "      <th>review_id</th>\n",
       "      <th>review_rating</th>\n",
       "      <th>sentence</th>\n",
       "    </tr>\n",
       "  </thead>\n",
       "  <tbody>\n",
       "    <tr>\n",
       "      <th>0</th>\n",
       "      <td>8595081530</td>\n",
       "      <td>RM0NBXMBSU4M3</td>\n",
       "      <td>4</td>\n",
       "      <td>Sabe todos aqueles livros que ensinam você a c...</td>\n",
       "    </tr>\n",
       "    <tr>\n",
       "      <th>1</th>\n",
       "      <td>8595081530</td>\n",
       "      <td>RM0NBXMBSU4M3</td>\n",
       "      <td>4</td>\n",
       "      <td>Ou daqueles que você termina a leitura sentind...</td>\n",
       "    </tr>\n",
       "    <tr>\n",
       "      <th>2</th>\n",
       "      <td>8595081530</td>\n",
       "      <td>RM0NBXMBSU4M3</td>\n",
       "      <td>4</td>\n",
       "      <td>Você NÃO vai encontrar um setup milagroso, ou ...</td>\n",
       "    </tr>\n",
       "    <tr>\n",
       "      <th>3</th>\n",
       "      <td>8595081530</td>\n",
       "      <td>RM0NBXMBSU4M3</td>\n",
       "      <td>4</td>\n",
       "      <td>Basicamente este livro conta verdades sobre o ...</td>\n",
       "    </tr>\n",
       "    <tr>\n",
       "      <th>4</th>\n",
       "      <td>8595081530</td>\n",
       "      <td>RM0NBXMBSU4M3</td>\n",
       "      <td>4</td>\n",
       "      <td>Mostra os detalhes de uma forma tão direta e b...</td>\n",
       "    </tr>\n",
       "  </tbody>\n",
       "</table>\n",
       "</div>"
      ],
      "text/plain": [
       "      book_id      review_id  review_rating  \\\n",
       "0  8595081530  RM0NBXMBSU4M3              4   \n",
       "1  8595081530  RM0NBXMBSU4M3              4   \n",
       "2  8595081530  RM0NBXMBSU4M3              4   \n",
       "3  8595081530  RM0NBXMBSU4M3              4   \n",
       "4  8595081530  RM0NBXMBSU4M3              4   \n",
       "\n",
       "                                            sentence  \n",
       "0  Sabe todos aqueles livros que ensinam você a c...  \n",
       "1  Ou daqueles que você termina a leitura sentind...  \n",
       "2  Você NÃO vai encontrar um setup milagroso, ou ...  \n",
       "3  Basicamente este livro conta verdades sobre o ...  \n",
       "4  Mostra os detalhes de uma forma tão direta e b...  "
      ]
     },
     "execution_count": 7,
     "metadata": {},
     "output_type": "execute_result"
    }
   ],
   "source": [
    "lineTotal = 10\n",
    "\n",
    "partialDf = df.iloc[ :lineTotal ]\n",
    "partialDf.head()"
   ]
  },
  {
   "cell_type": "code",
   "execution_count": 8,
   "id": "8d6a22dd-7bb7-4467-b414-c6331bc5b7a4",
   "metadata": {},
   "outputs": [
    {
     "data": {
      "text/html": [
       "<div>\n",
       "<style scoped>\n",
       "    .dataframe tbody tr th:only-of-type {\n",
       "        vertical-align: middle;\n",
       "    }\n",
       "\n",
       "    .dataframe tbody tr th {\n",
       "        vertical-align: top;\n",
       "    }\n",
       "\n",
       "    .dataframe thead th {\n",
       "        text-align: right;\n",
       "    }\n",
       "</style>\n",
       "<table border=\"1\" class=\"dataframe\">\n",
       "  <thead>\n",
       "    <tr style=\"text-align: right;\">\n",
       "      <th></th>\n",
       "      <th>book_id</th>\n",
       "      <th>review_id</th>\n",
       "      <th>review_rating</th>\n",
       "      <th>sentence</th>\n",
       "    </tr>\n",
       "  </thead>\n",
       "  <tbody>\n",
       "    <tr>\n",
       "      <th>5</th>\n",
       "      <td>8595081530</td>\n",
       "      <td>RM0NBXMBSU4M3</td>\n",
       "      <td>4</td>\n",
       "      <td>Só não ganha 5 estrelas pois acredito que a ar...</td>\n",
       "    </tr>\n",
       "    <tr>\n",
       "      <th>6</th>\n",
       "      <td>8595081530</td>\n",
       "      <td>RM0NBXMBSU4M3</td>\n",
       "      <td>4</td>\n",
       "      <td>Ps.:</td>\n",
       "    </tr>\n",
       "    <tr>\n",
       "      <th>7</th>\n",
       "      <td>8595081530</td>\n",
       "      <td>RM0NBXMBSU4M3</td>\n",
       "      <td>4</td>\n",
       "      <td>Gostei da textura do papel e da boa qualidade ...</td>\n",
       "    </tr>\n",
       "    <tr>\n",
       "      <th>8</th>\n",
       "      <td>8595081530</td>\n",
       "      <td>RM0NBXMBSU4M3</td>\n",
       "      <td>4</td>\n",
       "      <td>Recomendo muito!</td>\n",
       "    </tr>\n",
       "    <tr>\n",
       "      <th>9</th>\n",
       "      <td>8595081530</td>\n",
       "      <td>R3KC0ZLPQX85LT</td>\n",
       "      <td>5</td>\n",
       "      <td>Ensinamentos que eu tive quando li o livro:1.</td>\n",
       "    </tr>\n",
       "  </tbody>\n",
       "</table>\n",
       "</div>"
      ],
      "text/plain": [
       "      book_id       review_id  review_rating  \\\n",
       "5  8595081530   RM0NBXMBSU4M3              4   \n",
       "6  8595081530   RM0NBXMBSU4M3              4   \n",
       "7  8595081530   RM0NBXMBSU4M3              4   \n",
       "8  8595081530   RM0NBXMBSU4M3              4   \n",
       "9  8595081530  R3KC0ZLPQX85LT              5   \n",
       "\n",
       "                                            sentence  \n",
       "5  Só não ganha 5 estrelas pois acredito que a ar...  \n",
       "6                                               Ps.:  \n",
       "7  Gostei da textura do papel e da boa qualidade ...  \n",
       "8                                   Recomendo muito!  \n",
       "9      Ensinamentos que eu tive quando li o livro:1.  "
      ]
     },
     "execution_count": 8,
     "metadata": {},
     "output_type": "execute_result"
    }
   ],
   "source": [
    "partialDf.tail()"
   ]
  },
  {
   "cell_type": "markdown",
   "id": "ac249d00-f80f-4fd2-adaf-9ac653f889b7",
   "metadata": {},
   "source": [
    "#### Disable warnings"
   ]
  },
  {
   "cell_type": "code",
   "execution_count": 9,
   "id": "19fa657f-a18f-4734-a112-0ff12de5aa0b",
   "metadata": {},
   "outputs": [],
   "source": [
    "import warnings\n",
    "warnings.filterwarnings(\"ignore\")"
   ]
  },
  {
   "cell_type": "code",
   "execution_count": 24,
   "id": "db6b105d-1b08-4873-84c8-4ac9fd3bad7e",
   "metadata": {},
   "outputs": [
    {
     "data": {
      "text/html": [
       "<div>\n",
       "<style scoped>\n",
       "    .dataframe tbody tr th:only-of-type {\n",
       "        vertical-align: middle;\n",
       "    }\n",
       "\n",
       "    .dataframe tbody tr th {\n",
       "        vertical-align: top;\n",
       "    }\n",
       "\n",
       "    .dataframe thead th {\n",
       "        text-align: right;\n",
       "    }\n",
       "</style>\n",
       "<table border=\"1\" class=\"dataframe\">\n",
       "  <thead>\n",
       "    <tr style=\"text-align: right;\">\n",
       "      <th></th>\n",
       "      <th>book_id</th>\n",
       "      <th>review_id</th>\n",
       "      <th>review_rating</th>\n",
       "      <th>sentence</th>\n",
       "      <th>Sabe</th>\n",
       "      <th>todo</th>\n",
       "      <th>aquele</th>\n",
       "      <th>livro</th>\n",
       "      <th>que</th>\n",
       "      <th>ensinar</th>\n",
       "      <th>...</th>\n",
       "      <th>texturar</th>\n",
       "      <th>papel</th>\n",
       "      <th>qualidade</th>\n",
       "      <th>gráfico</th>\n",
       "      <th>Recomendo</th>\n",
       "      <th>muito</th>\n",
       "      <th>Ensinamentos</th>\n",
       "      <th>ter</th>\n",
       "      <th>ler</th>\n",
       "      <th>livro:1</th>\n",
       "    </tr>\n",
       "  </thead>\n",
       "  <tbody>\n",
       "    <tr>\n",
       "      <th>0</th>\n",
       "      <td>8595081530</td>\n",
       "      <td>RM0NBXMBSU4M3</td>\n",
       "      <td>4</td>\n",
       "      <td>Sabe todos aqueles livros que ensinam você a c...</td>\n",
       "      <td>0</td>\n",
       "      <td>0</td>\n",
       "      <td>0</td>\n",
       "      <td>0</td>\n",
       "      <td>0</td>\n",
       "      <td>0</td>\n",
       "      <td>...</td>\n",
       "      <td>0</td>\n",
       "      <td>0</td>\n",
       "      <td>0</td>\n",
       "      <td>0</td>\n",
       "      <td>0</td>\n",
       "      <td>0</td>\n",
       "      <td>0</td>\n",
       "      <td>0</td>\n",
       "      <td>0</td>\n",
       "      <td>0</td>\n",
       "    </tr>\n",
       "    <tr>\n",
       "      <th>1</th>\n",
       "      <td>8595081530</td>\n",
       "      <td>RM0NBXMBSU4M3</td>\n",
       "      <td>4</td>\n",
       "      <td>Ou daqueles que você termina a leitura sentind...</td>\n",
       "      <td>0</td>\n",
       "      <td>0</td>\n",
       "      <td>0</td>\n",
       "      <td>0</td>\n",
       "      <td>0</td>\n",
       "      <td>0</td>\n",
       "      <td>...</td>\n",
       "      <td>0</td>\n",
       "      <td>0</td>\n",
       "      <td>0</td>\n",
       "      <td>0</td>\n",
       "      <td>0</td>\n",
       "      <td>0</td>\n",
       "      <td>0</td>\n",
       "      <td>0</td>\n",
       "      <td>0</td>\n",
       "      <td>0</td>\n",
       "    </tr>\n",
       "    <tr>\n",
       "      <th>2</th>\n",
       "      <td>8595081530</td>\n",
       "      <td>RM0NBXMBSU4M3</td>\n",
       "      <td>4</td>\n",
       "      <td>Você NÃO vai encontrar um setup milagroso, ou ...</td>\n",
       "      <td>0</td>\n",
       "      <td>0</td>\n",
       "      <td>0</td>\n",
       "      <td>0</td>\n",
       "      <td>0</td>\n",
       "      <td>0</td>\n",
       "      <td>...</td>\n",
       "      <td>0</td>\n",
       "      <td>0</td>\n",
       "      <td>0</td>\n",
       "      <td>0</td>\n",
       "      <td>0</td>\n",
       "      <td>0</td>\n",
       "      <td>0</td>\n",
       "      <td>0</td>\n",
       "      <td>0</td>\n",
       "      <td>0</td>\n",
       "    </tr>\n",
       "    <tr>\n",
       "      <th>3</th>\n",
       "      <td>8595081530</td>\n",
       "      <td>RM0NBXMBSU4M3</td>\n",
       "      <td>4</td>\n",
       "      <td>Basicamente este livro conta verdades sobre o ...</td>\n",
       "      <td>0</td>\n",
       "      <td>0</td>\n",
       "      <td>0</td>\n",
       "      <td>0</td>\n",
       "      <td>0</td>\n",
       "      <td>0</td>\n",
       "      <td>...</td>\n",
       "      <td>0</td>\n",
       "      <td>0</td>\n",
       "      <td>0</td>\n",
       "      <td>0</td>\n",
       "      <td>0</td>\n",
       "      <td>0</td>\n",
       "      <td>0</td>\n",
       "      <td>0</td>\n",
       "      <td>0</td>\n",
       "      <td>0</td>\n",
       "    </tr>\n",
       "    <tr>\n",
       "      <th>4</th>\n",
       "      <td>8595081530</td>\n",
       "      <td>RM0NBXMBSU4M3</td>\n",
       "      <td>4</td>\n",
       "      <td>Mostra os detalhes de uma forma tão direta e b...</td>\n",
       "      <td>0</td>\n",
       "      <td>0</td>\n",
       "      <td>0</td>\n",
       "      <td>0</td>\n",
       "      <td>0</td>\n",
       "      <td>0</td>\n",
       "      <td>...</td>\n",
       "      <td>0</td>\n",
       "      <td>0</td>\n",
       "      <td>0</td>\n",
       "      <td>0</td>\n",
       "      <td>0</td>\n",
       "      <td>0</td>\n",
       "      <td>0</td>\n",
       "      <td>0</td>\n",
       "      <td>0</td>\n",
       "      <td>0</td>\n",
       "    </tr>\n",
       "  </tbody>\n",
       "</table>\n",
       "<p>5 rows × 130 columns</p>\n",
       "</div>"
      ],
      "text/plain": [
       "      book_id      review_id  review_rating  \\\n",
       "0  8595081530  RM0NBXMBSU4M3              4   \n",
       "1  8595081530  RM0NBXMBSU4M3              4   \n",
       "2  8595081530  RM0NBXMBSU4M3              4   \n",
       "3  8595081530  RM0NBXMBSU4M3              4   \n",
       "4  8595081530  RM0NBXMBSU4M3              4   \n",
       "\n",
       "                                            sentence  Sabe  todo  aquele  \\\n",
       "0  Sabe todos aqueles livros que ensinam você a c...     0     0       0   \n",
       "1  Ou daqueles que você termina a leitura sentind...     0     0       0   \n",
       "2  Você NÃO vai encontrar um setup milagroso, ou ...     0     0       0   \n",
       "3  Basicamente este livro conta verdades sobre o ...     0     0       0   \n",
       "4  Mostra os detalhes de uma forma tão direta e b...     0     0       0   \n",
       "\n",
       "   livro  que  ensinar  ...  texturar  papel  qualidade  gráfico  Recomendo  \\\n",
       "0      0    0        0  ...         0      0          0        0          0   \n",
       "1      0    0        0  ...         0      0          0        0          0   \n",
       "2      0    0        0  ...         0      0          0        0          0   \n",
       "3      0    0        0  ...         0      0          0        0          0   \n",
       "4      0    0        0  ...         0      0          0        0          0   \n",
       "\n",
       "   muito  Ensinamentos  ter  ler  livro:1  \n",
       "0      0             0    0    0        0  \n",
       "1      0             0    0    0        0  \n",
       "2      0             0    0    0        0  \n",
       "3      0             0    0    0        0  \n",
       "4      0             0    0    0        0  \n",
       "\n",
       "[5 rows x 130 columns]"
      ]
     },
     "execution_count": 24,
     "metadata": {},
     "output_type": "execute_result"
    }
   ],
   "source": [
    "for i in range(0, len(partialDf)):\n",
    "    \n",
    "    item = partialDf.iloc[i]\n",
    "    \n",
    "    # print(item)\n",
    "    \n",
    "    doc = nlp( item['sentence'] )\n",
    "    tokens = [ token.lemma_ for token in doc ]\n",
    "    \n",
    "    for token in tokens:\n",
    "        \n",
    "        if token not in partialDf.columns:\n",
    "            partialDf[ token ] = 0\n",
    "\n",
    "        partialDf.iloc[ i ][ token ] = 1\n",
    "        # print(partialDf.iloc[ i ][ token ])\n",
    "\n",
    "partialDf.head()"
   ]
  },
  {
   "cell_type": "code",
   "execution_count": null,
   "id": "d13d1857-d1f6-46d2-87e3-e67f4df3f0a0",
   "metadata": {},
   "outputs": [],
   "source": []
  },
  {
   "cell_type": "code",
   "execution_count": null,
   "id": "631d4375-4d0f-4c07-96fc-bfd3f3a2c1d3",
   "metadata": {},
   "outputs": [],
   "source": []
  },
  {
   "cell_type": "code",
   "execution_count": null,
   "id": "53db7655-f4ed-4349-a95a-4f96dbbe1d40",
   "metadata": {},
   "outputs": [],
   "source": []
  },
  {
   "cell_type": "code",
   "execution_count": null,
   "id": "85fb8d9d-6e85-445b-8efd-b20093b251cd",
   "metadata": {},
   "outputs": [],
   "source": []
  }
 ],
 "metadata": {
  "kernelspec": {
   "display_name": "Python 3 (ipykernel)",
   "language": "python",
   "name": "python3"
  },
  "language_info": {
   "codemirror_mode": {
    "name": "ipython",
    "version": 3
   },
   "file_extension": ".py",
   "mimetype": "text/x-python",
   "name": "python",
   "nbconvert_exporter": "python",
   "pygments_lexer": "ipython3",
   "version": "3.8.10"
  },
  "toc-autonumbering": true
 },
 "nbformat": 4,
 "nbformat_minor": 5
}
