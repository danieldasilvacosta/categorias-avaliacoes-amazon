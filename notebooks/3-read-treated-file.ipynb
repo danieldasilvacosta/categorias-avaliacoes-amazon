{
 "cells": [
  {
   "cell_type": "code",
   "execution_count": 61,
   "metadata": {},
   "outputs": [],
   "source": [
    "import datetime\n",
    "from os.path import exists\n",
    "import pandas as pd"
   ]
  },
  {
   "cell_type": "code",
   "execution_count": 62,
   "metadata": {},
   "outputs": [],
   "source": [
    "# Gets the current time and date when the script starts\n",
    "def start_counting_time():\n",
    "    # datetime object containing current date and time\n",
    "    start_time = datetime.datetime.now()\n",
    "    # dd/mm/YY H:M:S\n",
    "    start_time_string = start_time.strftime(\"%d/%m/%Y %H:%M:%S\")\n",
    "    print(\"Beginning to read the file \", start_time_string, \"\\n\")\t\n",
    "            \n",
    "    return start_time\n",
    "\n",
    "# Gets the current time and date when the script ends\n",
    "def finish_counting_time(start_time):\n",
    "    # datetime object containing current date and time\n",
    "    finish_time = datetime.datetime.now()\n",
    "    # dd/mm/YY H:M:S\n",
    "    finish_time_string = finish_time.strftime(\"%d/%m/%Y %H:%M:%S\")\n",
    "    print(\"\\nFinished the script at\", finish_time_string)\t\n",
    "    \n",
    "    difference = (finish_time - start_time).total_seconds()\n",
    "    print(\"The script took \" + str(difference) + \" seconds to complete.\\n\")"
   ]
  },
  {
   "cell_type": "code",
   "execution_count": 63,
   "metadata": {},
   "outputs": [
    {
     "name": "stdout",
     "output_type": "stream",
     "text": [
      "Beginning to read the file  04/04/2022 08:44:52 \n",
      "\n",
      "Dataframe size: (73169, 5)\n",
      "0    Um dos melhores livros sobre introdução ao con...\n",
      "1                                      Livro excelente\n",
      "2                                         Enriquecedor\n",
      "3    Ótima leitura de fácil compreensão e ensinamen...\n",
      "4    O livro O homem mais rico da Babilônia está fa...\n",
      "Name: review_title, dtype: object\n",
      "\n",
      "Finished the script at 04/04/2022 08:44:52\n",
      "The script took 0.247497 seconds to complete.\n",
      "\n"
     ]
    }
   ],
   "source": [
    "treated_csv_file_path = 'datasets/treated_csv_file.csv'\n",
    "\n",
    "start_time = start_counting_time()\n",
    "\n",
    "# Check if the file exists\n",
    "treated_file_exists = exists(treated_csv_file_path)\n",
    "\n",
    "if treated_file_exists:\n",
    "    df = pd.read_csv(treated_csv_file_path, sep=';')\n",
    "    print(\"Dataframe size: \" + str(df.shape))\n",
    "    #print(df.head())\n",
    "\n",
    "    print(df['review_title'].head())\n",
    "\n",
    "    \n",
    "finish_counting_time(start_time)            "
   ]
  }
 ],
 "metadata": {
  "interpreter": {
   "hash": "507a8b22a7c0b40ef0f08e0b9bf6dfcd321260259de865b53fc1aff31bf9277a"
  },
  "kernelspec": {
   "display_name": "Python 3.9.7 ('base')",
   "language": "python",
   "name": "python3"
  },
  "language_info": {
   "codemirror_mode": {
    "name": "ipython",
    "version": 3
   },
   "file_extension": ".py",
   "mimetype": "text/x-python",
   "name": "python",
   "nbconvert_exporter": "python",
   "pygments_lexer": "ipython3",
   "version": "3.9.7"
  },
  "orig_nbformat": 4
 },
 "nbformat": 4,
 "nbformat_minor": 2
}
