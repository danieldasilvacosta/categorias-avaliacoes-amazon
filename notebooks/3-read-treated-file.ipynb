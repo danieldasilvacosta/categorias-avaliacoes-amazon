{
 "cells": [
  {
   "cell_type": "code",
   "execution_count": 124,
   "metadata": {},
   "outputs": [],
   "source": [
    "import datetime\n",
    "from os.path import exists\n",
    "import pandas as pd\n",
    "import nltk    \n",
    "from nltk import ngrams, FreqDist\n",
    "from nltk import tokenize    \n",
    "from spacy.lang.pt import Portuguese\n",
    "import spacy\n",
    "\n",
    "sent_tokenizer = nltk.data.load('tokenizers/punkt/portuguese.pickle')"
   ]
  },
  {
   "cell_type": "code",
   "execution_count": 125,
   "metadata": {},
   "outputs": [],
   "source": [
    "# Gets the current time and date when the script starts\n",
    "def start_counting_time():\n",
    "    # datetime object containing current date and time\n",
    "    start_time = datetime.datetime.now()\n",
    "    # dd/mm/YY H:M:S\n",
    "    start_time_string = start_time.strftime(\"%d/%m/%Y %H:%M:%S\")\n",
    "    print(\"Beginning to read the file \", start_time_string, \"\\n\")\t\n",
    "            \n",
    "    return start_time\n",
    "\n",
    "# Gets the current time and date when the script ends\n",
    "def finish_counting_time(start_time):\n",
    "    # datetime object containing current date and time\n",
    "    finish_time = datetime.datetime.now()\n",
    "    # dd/mm/YY H:M:S\n",
    "    finish_time_string = finish_time.strftime(\"%d/%m/%Y %H:%M:%S\")\n",
    "    print(\"\\nFinished the script at\", finish_time_string)\t\n",
    "    \n",
    "    difference = (finish_time - start_time).total_seconds()\n",
    "    print(\"The script took \" + str(difference) + \" seconds to complete.\\n\")"
   ]
  },
  {
   "cell_type": "markdown",
   "metadata": {},
   "source": [
    "<h2>This notebook aims to make some analysis of the review texts of top 100 books from Amazon</h2>"
   ]
  },
  {
   "cell_type": "code",
   "execution_count": 126,
   "metadata": {},
   "outputs": [
    {
     "name": "stdout",
     "output_type": "stream",
     "text": [
      "Beginning to read the file  07/04/2022 06:10:51 \n",
      "\n",
      "Dataframe size: (21, 5)\n"
     ]
    }
   ],
   "source": [
    "# The dataset path\n",
    "treated_csv_file_path = 'datasets/treated_csv_file.csv'\n",
    "\n",
    "# When the script starts\n",
    "start_time = start_counting_time()\n",
    "\n",
    "# Check if the file exists\n",
    "treated_file_exists = exists(treated_csv_file_path)\n",
    "\n",
    "if treated_file_exists:\n",
    "    df = pd.read_csv(treated_csv_file_path, sep=';')\n",
    "    print(\"Dataframe size: \" + str(df.shape))\n",
    "    \n"
   ]
  },
  {
   "cell_type": "code",
   "execution_count": 127,
   "metadata": {},
   "outputs": [
    {
     "data": {
      "text/html": [
       "<div>\n",
       "<style scoped>\n",
       "    .dataframe tbody tr th:only-of-type {\n",
       "        vertical-align: middle;\n",
       "    }\n",
       "\n",
       "    .dataframe tbody tr th {\n",
       "        vertical-align: top;\n",
       "    }\n",
       "\n",
       "    .dataframe thead th {\n",
       "        text-align: right;\n",
       "    }\n",
       "</style>\n",
       "<table border=\"1\" class=\"dataframe\">\n",
       "  <thead>\n",
       "    <tr style=\"text-align: right;\">\n",
       "      <th></th>\n",
       "      <th>book_id</th>\n",
       "      <th>review_id</th>\n",
       "      <th>review_rating</th>\n",
       "      <th>review_title</th>\n",
       "      <th>review_text</th>\n",
       "    </tr>\n",
       "  </thead>\n",
       "  <tbody>\n",
       "    <tr>\n",
       "      <th>0</th>\n",
       "      <td>8595081530</td>\n",
       "      <td>RM0NBXMBSU4M3</td>\n",
       "      <td>4</td>\n",
       "      <td>Um dos melhores livros sobre introdução ao con...</td>\n",
       "      <td>Sabe todos aqueles livros que ensinam você a c...</td>\n",
       "    </tr>\n",
       "    <tr>\n",
       "      <th>1</th>\n",
       "      <td>8595081530</td>\n",
       "      <td>R3KC0ZLPQX85LT</td>\n",
       "      <td>5</td>\n",
       "      <td>Livro excelente</td>\n",
       "      <td>Ensinamentos que eu tive quando li o livro:1. ...</td>\n",
       "    </tr>\n",
       "    <tr>\n",
       "      <th>2</th>\n",
       "      <td>8595081530</td>\n",
       "      <td>R2UADYH9X17S5V</td>\n",
       "      <td>4</td>\n",
       "      <td>Enriquecedor</td>\n",
       "      <td>Sucinto livro de parábolas, O homem mais rico ...</td>\n",
       "    </tr>\n",
       "    <tr>\n",
       "      <th>3</th>\n",
       "      <td>8595081530</td>\n",
       "      <td>RGJ6BAA0J8P77</td>\n",
       "      <td>5</td>\n",
       "      <td>Ótima leitura de fácil compreensão e ensinamen...</td>\n",
       "      <td>De forma clara traz ensinamentos sobre educaçã...</td>\n",
       "    </tr>\n",
       "    <tr>\n",
       "      <th>4</th>\n",
       "      <td>8595081530</td>\n",
       "      <td>RZ65FZEPU1Y8V</td>\n",
       "      <td>1</td>\n",
       "      <td>O livro O homem mais rico da Babilônia está fa...</td>\n",
       "      <td>O livro O homem mais rico da Babilônia está fa...</td>\n",
       "    </tr>\n",
       "  </tbody>\n",
       "</table>\n",
       "</div>"
      ],
      "text/plain": [
       "      book_id       review_id  review_rating  \\\n",
       "0  8595081530   RM0NBXMBSU4M3              4   \n",
       "1  8595081530  R3KC0ZLPQX85LT              5   \n",
       "2  8595081530  R2UADYH9X17S5V              4   \n",
       "3  8595081530   RGJ6BAA0J8P77              5   \n",
       "4  8595081530   RZ65FZEPU1Y8V              1   \n",
       "\n",
       "                                        review_title  \\\n",
       "0  Um dos melhores livros sobre introdução ao con...   \n",
       "1                                    Livro excelente   \n",
       "2                                       Enriquecedor   \n",
       "3  Ótima leitura de fácil compreensão e ensinamen...   \n",
       "4  O livro O homem mais rico da Babilônia está fa...   \n",
       "\n",
       "                                         review_text  \n",
       "0  Sabe todos aqueles livros que ensinam você a c...  \n",
       "1  Ensinamentos que eu tive quando li o livro:1. ...  \n",
       "2  Sucinto livro de parábolas, O homem mais rico ...  \n",
       "3  De forma clara traz ensinamentos sobre educaçã...  \n",
       "4  O livro O homem mais rico da Babilônia está fa...  "
      ]
     },
     "execution_count": 127,
     "metadata": {},
     "output_type": "execute_result"
    }
   ],
   "source": [
    "    df.head()"
   ]
  },
  {
   "cell_type": "markdown",
   "metadata": {},
   "source": [
    "<h3>Column that contains the information that we want to classify: review_text.</h3>"
   ]
  },
  {
   "cell_type": "code",
   "execution_count": 128,
   "metadata": {},
   "outputs": [
    {
     "data": {
      "text/plain": [
       "0    Sabe todos aqueles livros que ensinam você a c...\n",
       "1    Ensinamentos que eu tive quando li o livro:1. ...\n",
       "2    Sucinto livro de parábolas, O homem mais rico ...\n",
       "3    De forma clara traz ensinamentos sobre educaçã...\n",
       "4    O livro O homem mais rico da Babilônia está fa...\n",
       "5    O livro traz lições importantes como:-Busque c...\n",
       "Name: review_text, dtype: object"
      ]
     },
     "execution_count": 128,
     "metadata": {},
     "output_type": "execute_result"
    }
   ],
   "source": [
    "    df.loc[:5, 'review_text']"
   ]
  },
  {
   "cell_type": "markdown",
   "metadata": {},
   "source": [
    "<h3>Example of how to break a paragraph into sentences, using nltk.</h3>"
   ]
  },
  {
   "cell_type": "code",
   "execution_count": 129,
   "metadata": {},
   "outputs": [
    {
     "name": "stdout",
     "output_type": "stream",
     "text": [
      "Sabe todos aqueles livros que ensinam você a criar uma agenda para controle de gastos contendo tudo que você gasta durante determinado período de tempo e que você nunca consegue terminar o tal método? \n",
      "\n",
      "Ou daqueles que você termina a leitura sentindo que sua vida vai mudar, mas quando tenta colocar em pratica percebe que tudo parece inalcançável para você?Esquece! \n",
      "\n",
      "Você NÃO vai encontrar um setup milagroso, ou algum tipo de mindset do gênero PNL a partir de agora eu domino meu dinheiro.Basicamente este livro conta verdades sobre o dinheiro. \n",
      "\n",
      "Mostra os detalhes de uma forma tão direta e bem escrita que você acaba percebendo determinadas engrenagens da roda da fortuna e passa a evitar determinadas situações tóxicas pois entende que realmente acontecem na vida real.Só não ganha 5 estrelas pois acredito que a arte da capa poderia ser melhor desenhada, pois é um bom livro para sua biblioteca e a capa não condiz com teu contudo.Ps. \n",
      "\n",
      ": Gostei da textura do papel e da boa qualidade da gráfica.Recomendo muito! \n",
      "\n",
      "Total number of sentences:  5\n"
     ]
    }
   ],
   "source": [
    "    \n",
    "    paragraph = df['review_text'].iloc[0]\n",
    "    sentences = sent_tokenizer.tokenize(paragraph)\n",
    "    \n",
    "    for sent in sentences:\n",
    "        print(sent, \"\\n\")\n",
    "\n",
    "    print(\"Total number of sentences: \", len(sentences))"
   ]
  },
  {
   "cell_type": "markdown",
   "metadata": {},
   "source": [
    "<h3>Example of how to break a paragraph into sentences, using spacy. Comparing spacy and nltk, it can be seen that spacy makes a better job while breaking the paragraph into sentences.</h3>"
   ]
  },
  {
   "cell_type": "code",
   "execution_count": 130,
   "metadata": {},
   "outputs": [
    {
     "name": "stdout",
     "output_type": "stream",
     "text": [
      "Sabe todos aqueles livros que ensinam você a criar uma agenda para controle de gastos contendo tudo que você gasta durante determinado período de tempo e que você nunca consegue terminar o tal método? \n",
      "\n",
      "Ou daqueles que você termina a leitura sentindo que sua vida vai mudar, mas quando tenta colocar em pratica percebe que tudo parece inalcançável para você?Esquece! \n",
      "\n",
      "Você NÃO vai encontrar um setup milagroso, ou algum tipo de mindset do gênero PNL a partir de agora eu domino meu dinheiro. \n",
      "\n",
      "Basicamente este livro conta verdades sobre o dinheiro. \n",
      "\n",
      "Mostra os detalhes de uma forma tão direta e bem escrita que você acaba percebendo determinadas engrenagens da roda da fortuna e passa a evitar determinadas situações tóxicas pois entende que realmente acontecem na vida real. \n",
      "\n",
      "Só não ganha 5 estrelas pois acredito que a arte da capa poderia ser melhor desenhada, pois é um bom livro para sua biblioteca e a capa não condiz com teu contudo. \n",
      "\n",
      "Ps.: \n",
      "\n",
      "Gostei da textura do papel e da boa qualidade da gráfica. \n",
      "\n",
      "Recomendo muito! \n",
      "\n",
      "Total number of sentences:  9\n"
     ]
    }
   ],
   "source": [
    "    nlp = Portuguese()  \n",
    "    nlp = spacy.load(\"pt_core_news_lg\")\n",
    "\n",
    "    sentences = nlp(paragraph).sents\n",
    "\n",
    "    count = 0\n",
    "    for sent in sentences:\n",
    "        count += 1\n",
    "        print(sent.text, '\\n')\n",
    "\n",
    "    print(\"Total number of sentences: \", count)"
   ]
  },
  {
   "cell_type": "code",
   "execution_count": 131,
   "metadata": {},
   "outputs": [
    {
     "data": {
      "text/html": [
       "<div>\n",
       "<style scoped>\n",
       "    .dataframe tbody tr th:only-of-type {\n",
       "        vertical-align: middle;\n",
       "    }\n",
       "\n",
       "    .dataframe tbody tr th {\n",
       "        vertical-align: top;\n",
       "    }\n",
       "\n",
       "    .dataframe thead th {\n",
       "        text-align: right;\n",
       "    }\n",
       "</style>\n",
       "<table border=\"1\" class=\"dataframe\">\n",
       "  <thead>\n",
       "    <tr style=\"text-align: right;\">\n",
       "      <th></th>\n",
       "      <th>book_id</th>\n",
       "      <th>review_id</th>\n",
       "      <th>review_rating</th>\n",
       "      <th>review_title</th>\n",
       "      <th>review_text</th>\n",
       "    </tr>\n",
       "  </thead>\n",
       "  <tbody>\n",
       "    <tr>\n",
       "      <th>0</th>\n",
       "      <td>8595081530</td>\n",
       "      <td>RM0NBXMBSU4M3</td>\n",
       "      <td>4</td>\n",
       "      <td>Um dos melhores livros sobre introdução ao con...</td>\n",
       "      <td>Sabe todos aqueles livros que ensinam você a c...</td>\n",
       "    </tr>\n",
       "    <tr>\n",
       "      <th>1</th>\n",
       "      <td>8595081530</td>\n",
       "      <td>R3KC0ZLPQX85LT</td>\n",
       "      <td>5</td>\n",
       "      <td>Livro excelente</td>\n",
       "      <td>Ensinamentos que eu tive quando li o livro:1. ...</td>\n",
       "    </tr>\n",
       "    <tr>\n",
       "      <th>2</th>\n",
       "      <td>8595081530</td>\n",
       "      <td>R2UADYH9X17S5V</td>\n",
       "      <td>4</td>\n",
       "      <td>Enriquecedor</td>\n",
       "      <td>Sucinto livro de parábolas, O homem mais rico ...</td>\n",
       "    </tr>\n",
       "    <tr>\n",
       "      <th>3</th>\n",
       "      <td>8595081530</td>\n",
       "      <td>RGJ6BAA0J8P77</td>\n",
       "      <td>5</td>\n",
       "      <td>Ótima leitura de fácil compreensão e ensinamen...</td>\n",
       "      <td>De forma clara traz ensinamentos sobre educaçã...</td>\n",
       "    </tr>\n",
       "    <tr>\n",
       "      <th>4</th>\n",
       "      <td>8595081530</td>\n",
       "      <td>RZ65FZEPU1Y8V</td>\n",
       "      <td>1</td>\n",
       "      <td>O livro O homem mais rico da Babilônia está fa...</td>\n",
       "      <td>O livro O homem mais rico da Babilônia está fa...</td>\n",
       "    </tr>\n",
       "  </tbody>\n",
       "</table>\n",
       "</div>"
      ],
      "text/plain": [
       "      book_id       review_id  review_rating  \\\n",
       "0  8595081530   RM0NBXMBSU4M3              4   \n",
       "1  8595081530  R3KC0ZLPQX85LT              5   \n",
       "2  8595081530  R2UADYH9X17S5V              4   \n",
       "3  8595081530   RGJ6BAA0J8P77              5   \n",
       "4  8595081530   RZ65FZEPU1Y8V              1   \n",
       "\n",
       "                                        review_title  \\\n",
       "0  Um dos melhores livros sobre introdução ao con...   \n",
       "1                                    Livro excelente   \n",
       "2                                       Enriquecedor   \n",
       "3  Ótima leitura de fácil compreensão e ensinamen...   \n",
       "4  O livro O homem mais rico da Babilônia está fa...   \n",
       "\n",
       "                                         review_text  \n",
       "0  Sabe todos aqueles livros que ensinam você a c...  \n",
       "1  Ensinamentos que eu tive quando li o livro:1. ...  \n",
       "2  Sucinto livro de parábolas, O homem mais rico ...  \n",
       "3  De forma clara traz ensinamentos sobre educaçã...  \n",
       "4  O livro O homem mais rico da Babilônia está fa...  "
      ]
     },
     "execution_count": 131,
     "metadata": {},
     "output_type": "execute_result"
    }
   ],
   "source": [
    "    df.head()"
   ]
  },
  {
   "cell_type": "code",
   "execution_count": 132,
   "metadata": {},
   "outputs": [
    {
     "data": {
      "text/plain": [
       "0     [Sabe todos aqueles livros que ensinam você a ...\n",
       "1     [Ensinamentos que eu tive quando li o livro:1....\n",
       "2     [Sucinto livro de parábolas, O homem mais rico...\n",
       "3     [De forma clara traz ensinamentos sobre educaç...\n",
       "4     [O livro, O homem mais rico da Babilônia está ...\n",
       "5     [O livro traz lições importantes como:-Busque ...\n",
       "6     [Livro proveitoso e de fácil leitura., Da para...\n",
       "7     [Bom livro, nada excepcional, é um livro de mi...\n",
       "8     [O significado do sucesso e liberdade financei...\n",
       "9     [●, Imagine que você está sentado em uma roda ...\n",
       "10    [É um livro pequeno é bem didático, retatra o ...\n",
       "11    [Um livro com ensinamentos tão profundos e uma...\n",
       "12    [Uma leitura simples e básica sobre histórias ...\n",
       "13    [Não recomendo!Livro que diz o óbvio!O autor u...\n",
       "14    [Para quem é estudioso da área de economia o l...\n",
       "15    [Livro com um estilo parecido de Pai rico, Pai...\n",
       "16    [O livro trata de como os babilônicos lidavam ...\n",
       "17    [Por tratar dos comportamentos, crenças e narr...\n",
       "18    [O livro reúne uma série de panfletos escritos...\n",
       "19    [Deveria ser adaptado para as escolas, o siste...\n",
       "20    [Para mim, 3 estrelas é muito., Não me acresce...\n",
       "Name: review_text, dtype: object"
      ]
     },
     "execution_count": 132,
     "metadata": {},
     "output_type": "execute_result"
    }
   ],
   "source": [
    "    df.loc[:150, \"review_text\"].apply(lambda x: [sent.text for sent in nlp(x).sents])"
   ]
  },
  {
   "cell_type": "code",
   "execution_count": 133,
   "metadata": {},
   "outputs": [
    {
     "data": {
      "text/plain": [
       "Sentence ID\n",
       "0    Sabe todos aqueles livros que ensinam você a c...\n",
       "1    Ou daqueles que você termina a leitura sentind...\n",
       "2    Você NÃO vai encontrar um setup milagroso, ou ...\n",
       "3    Basicamente este livro conta verdades sobre o ...\n",
       "4    Mostra os detalhes de uma forma tão direta e b...\n",
       "Name: sentences, dtype: object"
      ]
     },
     "execution_count": 133,
     "metadata": {},
     "output_type": "execute_result"
    }
   ],
   "source": [
    "    df[\"sentences\"] = df[\"review_text\"].apply(lambda x: [sent.text for sent in nlp(x).sents])\n",
    "    df = df.explode(\"sentences\", ignore_index=True)\n",
    "    df.index.name = \"Sentence ID\"\n",
    "    df[\"sentences\"].head()"
   ]
  },
  {
   "cell_type": "code",
   "execution_count": 134,
   "metadata": {},
   "outputs": [
    {
     "data": {
      "text/plain": [
       "book_id                                                 8595081530\n",
       "review_id                                           R2IU0IH8KX983O\n",
       "review_rating                                                    5\n",
       "review_title     Os panfletos de George S. Clason reunidos em u...\n",
       "review_text      O livro reúne uma série de panfletos escritos ...\n",
       "sentences               Não exagerem nem tentem economizar demais.\n",
       "Name: 265, dtype: object"
      ]
     },
     "execution_count": 134,
     "metadata": {},
     "output_type": "execute_result"
    }
   ],
   "source": [
    "    df.loc[265]"
   ]
  },
  {
   "cell_type": "code",
   "execution_count": 135,
   "metadata": {},
   "outputs": [
    {
     "data": {
      "text/plain": [
       "180"
      ]
     },
     "execution_count": 135,
     "metadata": {},
     "output_type": "execute_result"
    }
   ],
   "source": [
    "    tokens = tokenize.word_tokenize(paragraph, language='portuguese')    \n",
    "    len(tokens)"
   ]
  },
  {
   "cell_type": "code",
   "execution_count": 136,
   "metadata": {},
   "outputs": [
    {
     "data": {
      "text/plain": [
       "FreqDist({'que': 9, 'você': 6, 'a': 6, 'da': 6, 'de': 5, 'e': 5, 'para': 3, ',': 3, 'pois': 3, 'uma': 2, ...})"
      ]
     },
     "execution_count": 136,
     "metadata": {},
     "output_type": "execute_result"
    }
   ],
   "source": [
    "    fd = nltk.FreqDist(tokens)\n",
    "    fd"
   ]
  },
  {
   "cell_type": "code",
   "execution_count": 137,
   "metadata": {},
   "outputs": [],
   "source": [
    "    sentence = df.sentences.loc[0]\n",
    "    #target_word = 'livros'\n",
    "    ##fd = FreqDist(ng for ng in ngrams(sentence, 5) if target_word in ng)\n",
    "    #for hit in fd:\n",
    "        #print(' '.join(hit))"
   ]
  },
  {
   "cell_type": "code",
   "execution_count": null,
   "metadata": {},
   "outputs": [],
   "source": []
  },
  {
   "cell_type": "code",
   "execution_count": 138,
   "metadata": {},
   "outputs": [],
   "source": [
    "    #df['review_text']"
   ]
  },
  {
   "cell_type": "code",
   "execution_count": 139,
   "metadata": {},
   "outputs": [
    {
     "name": "stdout",
     "output_type": "stream",
     "text": [
      "\n",
      "Finished the script at 07/04/2022 06:10:54\n",
      "The script took 3.837767 seconds to complete.\n",
      "\n"
     ]
    }
   ],
   "source": [
    "# When the script ends    \n",
    "finish_counting_time(start_time)            "
   ]
  }
 ],
 "metadata": {
  "interpreter": {
   "hash": "507a8b22a7c0b40ef0f08e0b9bf6dfcd321260259de865b53fc1aff31bf9277a"
  },
  "kernelspec": {
   "display_name": "Python 3.9.7 ('base')",
   "language": "python",
   "name": "python3"
  },
  "language_info": {
   "codemirror_mode": {
    "name": "ipython",
    "version": 3
   },
   "file_extension": ".py",
   "mimetype": "text/x-python",
   "name": "python",
   "nbconvert_exporter": "python",
   "pygments_lexer": "ipython3",
   "version": "3.9.7"
  },
  "orig_nbformat": 4
 },
 "nbformat": 4,
 "nbformat_minor": 2
}
