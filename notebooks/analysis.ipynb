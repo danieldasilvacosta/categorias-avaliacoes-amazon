{
 "cells": [
  {
   "cell_type": "code",
   "execution_count": null,
   "id": "d4fdcbda-d21a-49c8-8aa9-dac93fb9197f",
   "metadata": {},
   "outputs": [],
   "source": [
    "import pandas as pd\n",
    "# from wordcloud import WordCloud\n",
    "import matplotlib.pyplot as plt"
   ]
  },
  {
   "cell_type": "code",
   "execution_count": null,
   "id": "69d13791-282a-498c-82d6-6ba740d09443",
   "metadata": {},
   "outputs": [],
   "source": [
    "# SHOW_STOP_WORDS = True\n",
    "SHOW_STOP_WORDS = False"
   ]
  },
  {
   "cell_type": "code",
   "execution_count": null,
   "id": "e21660c7-0403-444f-a6ec-55c112d816ea",
   "metadata": {},
   "outputs": [],
   "source": [
    "stopWords = {\n",
    "    'o', 'a', 'os', 'as', \n",
    "    'um', 'uma', 'uns', 'umas', \n",
    "    'e',\n",
    "    'de', 'do', 'da',\n",
    "    'sobre',\n",
    "    'ma',\n",
    "    'lo', 'la'\n",
    "    'que',\n",
    "    'se',\n",
    "    'em',\n",
    "    'com',\n",
    "    'é',\n",
    "    'que'\n",
    "}\n",
    "# stopWords"
   ]
  },
  {
   "cell_type": "code",
   "execution_count": null,
   "id": "76a67068-859f-4d12-b2fd-417b1941d3c7",
   "metadata": {},
   "outputs": [],
   "source": [
    "df = pd.read_csv( \n",
    "    './datasets/csv_file.csv',\n",
    "    encoding = 'UTF8',\n",
    "    sep = ';');\n",
    "df.head()"
   ]
  },
  {
   "cell_type": "code",
   "execution_count": null,
   "id": "2448e358-0c07-4923-9279-8aa1ff5c0185",
   "metadata": {},
   "outputs": [],
   "source": [
    "len(df)"
   ]
  },
  {
   "cell_type": "code",
   "execution_count": null,
   "id": "95b514dc-0ddd-4b34-81e1-492d0f2e4664",
   "metadata": {},
   "outputs": [],
   "source": [
    "df = df['reviewText'].str.lower()\n",
    "df.head()"
   ]
  },
  {
   "cell_type": "code",
   "execution_count": null,
   "id": "ae4a7062-5929-49d8-aee5-5a20f224455a",
   "metadata": {},
   "outputs": [],
   "source": [
    "df[1]"
   ]
  },
  {
   "cell_type": "code",
   "execution_count": null,
   "id": "9c501061-c492-4c59-9adc-67884e69207d",
   "metadata": {},
   "outputs": [],
   "source": [
    "def cleanWord( word ):\n",
    "    \n",
    "    word = word.replace(',', '')\n",
    "    word = word.replace('.', '')\n",
    "    word = word.replace('❤', '')\n",
    "    word = word.replace('💜', '')\n",
    "\n",
    "    return word"
   ]
  },
  {
   "cell_type": "code",
   "execution_count": null,
   "id": "4ff9c490-adf4-425e-ae7f-cb0e73a0726a",
   "metadata": {},
   "outputs": [],
   "source": [
    "allWords = list()\n",
    "words = list()\n",
    "\n",
    "for review in df:\n",
    "    \n",
    "#     print(review)\n",
    "    rawWords = str(review).split()\n",
    "    \n",
    "    for word in rawWords:\n",
    "        word = cleanWord( word )\n",
    "        \n",
    "        if word not in words:\n",
    "            words.append( word )\n",
    "\n",
    "if not SHOW_STOP_WORDS:\n",
    "    \n",
    "    for word in words:\n",
    "        if word in stopWords:\n",
    "            continue\n",
    "        else:\n",
    "            allWords.append( word )\n",
    "        \n",
    "else: \n",
    "    allWords = words\n",
    "    \n",
    "# allWords"
   ]
  },
  {
   "cell_type": "code",
   "execution_count": null,
   "id": "008b3af8-c013-40e1-a419-b5c4893d94c5",
   "metadata": {},
   "outputs": [],
   "source": [
    "print( 'List size: {}'.format( len(allWords) ) )"
   ]
  },
  {
   "cell_type": "code",
   "execution_count": null,
   "id": "2e4c8b00-4f99-41f4-a4ae-01a9dd7b7409",
   "metadata": {},
   "outputs": [],
   "source": [
    "# allJoinedWords = \" \".join( allWords ) + \" \"\n",
    "\n",
    "# if SHOW_STOP_WORDS:\n",
    "\n",
    "#     wordcloud = WordCloud(\n",
    "#         width = 800, \n",
    "#         height = 800,\n",
    "#         background_color ='white',\n",
    "#         min_font_size = 10\n",
    "#     ).generate( allJoinedWords )\n",
    "    \n",
    "# else:\n",
    "    \n",
    "#     wordcloud = WordCloud(\n",
    "#         width = 800, \n",
    "#         height = 800,\n",
    "#         background_color ='white',\n",
    "#         stopwords = stopWords,\n",
    "#         min_font_size = 12\n",
    "#     ).generate( allJoinedWords )\n",
    "\n",
    "# # plot the WordCloud image                      \n",
    "# plt.figure(figsize = (8, 8), facecolor = None)\n",
    "# plt.imshow(wordcloud)\n",
    "# plt.axis(\"off\")\n",
    "# plt.tight_layout(pad = 0)\n",
    " \n",
    "plt.show()"
   ]
  },
  {
   "cell_type": "code",
   "execution_count": null,
   "id": "8b370bc3-ecae-4bd8-9aea-40e8e0666042",
   "metadata": {},
   "outputs": [],
   "source": [
    "allWordsDict = {}\n",
    "for review in df:\n",
    "    \n",
    "    # print(review)\n",
    "    \n",
    "    words = str(review).split()\n",
    "    # print(words)\n",
    "    \n",
    "    for word in words:\n",
    "        \n",
    "        if (not SHOW_STOP_WORDS) and (word in stopWords):\n",
    "            continue\n",
    "        \n",
    "        word = cleanWord( word )\n",
    "        \n",
    "        if word not in allWordsDict.keys():\n",
    "            \n",
    "            allWordsDict[word] = 1\n",
    "            \n",
    "        else:\n",
    "            \n",
    "            allWordsDict[word] += 1\n",
    "\n",
    "# print( allWordsDict )"
   ]
  },
  {
   "cell_type": "code",
   "execution_count": null,
   "id": "0f91aed0-f00f-494c-90d2-94036846e4de",
   "metadata": {},
   "outputs": [],
   "source": [
    "allWordsDF = pd.DataFrame()\n",
    "\n",
    "allWordsDF[ 'word' ] = allWordsDict.keys()\n",
    "allWordsDF[ 'count' ] = allWordsDict.values()\n",
    "\n",
    "allWordsDF.head(10)"
   ]
  },
  {
   "cell_type": "code",
   "execution_count": null,
   "id": "ad7275ae-64ac-438e-ae1f-a744af59147c",
   "metadata": {},
   "outputs": [],
   "source": [
    "allWordsDF.sort_values(\n",
    "    by = 'count',\n",
    "    ascending = 0)"
   ]
  },
  {
   "cell_type": "code",
   "execution_count": null,
   "id": "54a02429-1853-4c91-825e-10d9b04f9e0e",
   "metadata": {},
   "outputs": [],
   "source": []
  },
  {
   "cell_type": "code",
   "execution_count": null,
   "id": "5422cb6d-a0e9-449d-929e-3b8af8e5da26",
   "metadata": {},
   "outputs": [],
   "source": []
  },
  {
   "cell_type": "code",
   "execution_count": null,
   "id": "c80f5871-011e-499d-9310-44403ed110bc",
   "metadata": {},
   "outputs": [],
   "source": []
  },
  {
   "cell_type": "code",
   "execution_count": null,
   "id": "5871e415-b5c0-459f-8c12-128b0ed8425b",
   "metadata": {},
   "outputs": [],
   "source": []
  }
 ],
 "metadata": {
  "kernelspec": {
   "display_name": "Python 3 (ipykernel)",
   "language": "python",
   "name": "python3"
  },
  "language_info": {
   "codemirror_mode": {
    "name": "ipython",
    "version": 3
   },
   "file_extension": ".py",
   "mimetype": "text/x-python",
   "name": "python",
   "nbconvert_exporter": "python",
   "pygments_lexer": "ipython3",
   "version": "3.10.3"
  }
 },
 "nbformat": 4,
 "nbformat_minor": 5
}
