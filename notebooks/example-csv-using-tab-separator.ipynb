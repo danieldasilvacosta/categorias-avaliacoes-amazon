{
 "cells": [
  {
   "cell_type": "markdown",
   "id": "3776fa15-6a18-40fe-ba99-2ef49f5624ff",
   "metadata": {},
   "source": [
    "### Baseado em: Pandas – DataFrame to CSV file using tab separator\n",
    "#### https://www.geeksforgeeks.org/pandas-dataframe-to-csv-file-using-tab-separator/"
   ]
  },
  {
   "cell_type": "code",
   "execution_count": 10,
   "id": "604a2892-5aca-4095-9295-394c0f724e9a",
   "metadata": {},
   "outputs": [
    {
     "name": "stdout",
     "output_type": "stream",
     "text": [
      "Original DataFrame\n",
      "  Student  RollNumber Grade\n",
      "0    Amit           1     A\n",
      "1    Cody           5     C\n",
      "2  Darren          10     F\n",
      "3    Drew          15     B\n",
      "Data from Students.csv:\n",
      "  \\tStudent\\tRollNumber\\tGrade\n",
      "0                0\\tAmit\\t1\\tA\n",
      "1                1\\tCody\\t5\\tC\n",
      "2             2\\tDarren\\t10\\tF\n",
      "3               3\\tDrew\\t15\\tB\n"
     ]
    }
   ],
   "source": [
    "# importing the modules\n",
    "import pandas as pd\n",
    "import numpy as np\n",
    "\n",
    "csvFile = './datasets/example-csv-using-tab-separator.csv';\n",
    " \n",
    "# creating a DataFrame\n",
    "students = {'Student': ['Amit', 'Cody',\n",
    "                        'Darren', 'Drew'],\n",
    "            'RollNumber': [1, 5, 10, 15],\n",
    "            'Grade': ['A', 'C', 'F', 'B']}\n",
    "df = pd.DataFrame(students,\n",
    "                  columns =['Student', 'RollNumber',\n",
    "                            'Grade'])\n",
    "# displaying the original DataFrame\n",
    "print(\"Original DataFrame\")\n",
    "print(df)\n",
    " \n",
    "# saving as a CSV file\n",
    "df.to_csv(csvFile, sep ='\\t')\n",
    " \n",
    "# loading the CSV file\n",
    "new_df = pd.read_csv(csvFile)\n",
    " \n",
    "# displaying the new DataFrame\n",
    "print('Data from Students.csv:')\n",
    "print(new_df)"
   ]
  }
 ],
 "metadata": {
  "kernelspec": {
   "display_name": "Python 3 (ipykernel)",
   "language": "python",
   "name": "python3"
  },
  "language_info": {
   "codemirror_mode": {
    "name": "ipython",
    "version": 3
   },
   "file_extension": ".py",
   "mimetype": "text/x-python",
   "name": "python",
   "nbconvert_exporter": "python",
   "pygments_lexer": "ipython3",
   "version": "3.10.3"
  }
 },
 "nbformat": 4,
 "nbformat_minor": 5
}
