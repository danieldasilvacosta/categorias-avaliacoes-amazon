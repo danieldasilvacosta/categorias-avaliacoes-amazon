{
  "nbformat": 4,
  "nbformat_minor": 0,
  "metadata": {
    "colab": {
      "name": "4.3-analysis--sentece-transformers.ipynb",
      "provenance": [],
      "collapsed_sections": []
    },
    "kernelspec": {
      "name": "python3",
      "display_name": "Python 3"
    },
    "language_info": {
      "name": "python"
    }
  },
  "cells": [
    {
      "cell_type": "markdown",
      "source": [
        "Based on:\n",
        "\n",
        "**BERT For Measuring Text Similarity**\n",
        "\n",
        "https://towardsdatascience.com/bert-for-measuring-text-similarity-eec91c6bf9e1"
      ],
      "metadata": {
        "id": "smYaK_BYPW02"
      }
    },
    {
      "cell_type": "code",
      "execution_count": 1,
      "metadata": {
        "colab": {
          "base_uri": "https://localhost:8080/"
        },
        "id": "maneNQRWOipC",
        "outputId": "fd40f105-dda0-43a3-ed4b-eb5dbf11118b"
      },
      "outputs": [
        {
          "output_type": "stream",
          "name": "stdout",
          "text": [
            "Looking in indexes: https://pypi.org/simple, https://us-python.pkg.dev/colab-wheels/public/simple/\n",
            "Requirement already satisfied: sentence-transformers in /usr/local/lib/python3.7/dist-packages (2.2.0)\n",
            "Requirement already satisfied: torchvision in /usr/local/lib/python3.7/dist-packages (from sentence-transformers) (0.12.0+cu113)\n",
            "Requirement already satisfied: huggingface-hub in /usr/local/lib/python3.7/dist-packages (from sentence-transformers) (0.7.0)\n",
            "Requirement already satisfied: scikit-learn in /usr/local/lib/python3.7/dist-packages (from sentence-transformers) (1.0.2)\n",
            "Requirement already satisfied: nltk in /usr/local/lib/python3.7/dist-packages (from sentence-transformers) (3.7)\n",
            "Requirement already satisfied: transformers<5.0.0,>=4.6.0 in /usr/local/lib/python3.7/dist-packages (from sentence-transformers) (4.20.0)\n",
            "Requirement already satisfied: scipy in /usr/local/lib/python3.7/dist-packages (from sentence-transformers) (1.4.1)\n",
            "Requirement already satisfied: numpy in /usr/local/lib/python3.7/dist-packages (from sentence-transformers) (1.21.6)\n",
            "Requirement already satisfied: tqdm in /usr/local/lib/python3.7/dist-packages (from sentence-transformers) (4.64.0)\n",
            "Requirement already satisfied: sentencepiece in /usr/local/lib/python3.7/dist-packages (from sentence-transformers) (0.1.96)\n",
            "Requirement already satisfied: torch>=1.6.0 in /usr/local/lib/python3.7/dist-packages (from sentence-transformers) (1.11.0+cu113)\n",
            "Requirement already satisfied: typing-extensions in /usr/local/lib/python3.7/dist-packages (from torch>=1.6.0->sentence-transformers) (4.1.1)\n",
            "Requirement already satisfied: requests in /usr/local/lib/python3.7/dist-packages (from transformers<5.0.0,>=4.6.0->sentence-transformers) (2.23.0)\n",
            "Requirement already satisfied: packaging>=20.0 in /usr/local/lib/python3.7/dist-packages (from transformers<5.0.0,>=4.6.0->sentence-transformers) (21.3)\n",
            "Requirement already satisfied: filelock in /usr/local/lib/python3.7/dist-packages (from transformers<5.0.0,>=4.6.0->sentence-transformers) (3.7.1)\n",
            "Requirement already satisfied: tokenizers!=0.11.3,<0.13,>=0.11.1 in /usr/local/lib/python3.7/dist-packages (from transformers<5.0.0,>=4.6.0->sentence-transformers) (0.12.1)\n",
            "Requirement already satisfied: importlib-metadata in /usr/local/lib/python3.7/dist-packages (from transformers<5.0.0,>=4.6.0->sentence-transformers) (4.11.4)\n",
            "Requirement already satisfied: regex!=2019.12.17 in /usr/local/lib/python3.7/dist-packages (from transformers<5.0.0,>=4.6.0->sentence-transformers) (2022.6.2)\n",
            "Requirement already satisfied: pyyaml>=5.1 in /usr/local/lib/python3.7/dist-packages (from transformers<5.0.0,>=4.6.0->sentence-transformers) (6.0)\n",
            "Requirement already satisfied: pyparsing!=3.0.5,>=2.0.2 in /usr/local/lib/python3.7/dist-packages (from packaging>=20.0->transformers<5.0.0,>=4.6.0->sentence-transformers) (3.0.9)\n",
            "Requirement already satisfied: zipp>=0.5 in /usr/local/lib/python3.7/dist-packages (from importlib-metadata->transformers<5.0.0,>=4.6.0->sentence-transformers) (3.8.0)\n",
            "Requirement already satisfied: click in /usr/local/lib/python3.7/dist-packages (from nltk->sentence-transformers) (7.1.2)\n",
            "Requirement already satisfied: joblib in /usr/local/lib/python3.7/dist-packages (from nltk->sentence-transformers) (1.1.0)\n",
            "Requirement already satisfied: urllib3!=1.25.0,!=1.25.1,<1.26,>=1.21.1 in /usr/local/lib/python3.7/dist-packages (from requests->transformers<5.0.0,>=4.6.0->sentence-transformers) (1.24.3)\n",
            "Requirement already satisfied: certifi>=2017.4.17 in /usr/local/lib/python3.7/dist-packages (from requests->transformers<5.0.0,>=4.6.0->sentence-transformers) (2022.6.15)\n",
            "Requirement already satisfied: chardet<4,>=3.0.2 in /usr/local/lib/python3.7/dist-packages (from requests->transformers<5.0.0,>=4.6.0->sentence-transformers) (3.0.4)\n",
            "Requirement already satisfied: idna<3,>=2.5 in /usr/local/lib/python3.7/dist-packages (from requests->transformers<5.0.0,>=4.6.0->sentence-transformers) (2.10)\n",
            "Requirement already satisfied: threadpoolctl>=2.0.0 in /usr/local/lib/python3.7/dist-packages (from scikit-learn->sentence-transformers) (3.1.0)\n",
            "Requirement already satisfied: pillow!=8.3.*,>=5.3.0 in /usr/local/lib/python3.7/dist-packages (from torchvision->sentence-transformers) (7.1.2)\n"
          ]
        }
      ],
      "source": [
        "! pip install sentence-transformers"
      ]
    },
    {
      "cell_type": "code",
      "source": [
        "sentences = [\n",
        "    \"Three years later, the coffin was still full of Jello.\",\n",
        "    \"The fish dreamed of escaping the fishbowl and into the toilet where he saw his friend go.\",\n",
        "    \"The person box was packed with jelly many dozens of months later.\",\n",
        "    \"He found a leprechaun in his walnut shell.\",\n",
        "    \"Undergraduate Topics in Computer Science (UTiCS) delivers high-quality instructional content for undergraduates studying in all areas of computing and information science.\",\n",
        "    \"This chapter will familiarize you with the framework we shall use throughout the book to think about the design and analysis of algorithms.\",\n",
        "    \"The U-shape observed in the test MSE curves (Figures 2.9–2.11) turns out to be the result of two competing properties of statistical learning methods.\",\n",
        "    \"The best place to start is with the topic that is most relevant to your employees: the knowledge and skill that they need to do their job.\",\n",
        "    \"What is the peak value of the distribution?\",\n",
        "    \"JOHNSON, D.S, ARAGON, C.R., McGEOCH, L.A. and SCHEVON, C. (1987). Optimization by Simulated Annealing: an Experimental Evaluation. USA: AT&T Bell Laboratories.\",\n",
        "    \"Each of these probabilities is between 0 and 1 inclusive, as it has to be to qualify as a probability.\",\n",
        "    \"As you’ve seen, you can spot plenty of problems just by looking over the data summaries.\",\n",
        "    \"Now let’s save the report with the name of Pubs Analysis Extended (save option is in the top left side of the report editor).\"\n",
        "]"
      ],
      "metadata": {
        "id": "eTjgOAFbOlRi"
      },
      "execution_count": 14,
      "outputs": []
    },
    {
      "cell_type": "code",
      "source": [
        "from sentence_transformers import SentenceTransformer\n",
        "\n",
        "model = SentenceTransformer('bert-base-nli-mean-tokens')"
      ],
      "metadata": {
        "id": "aPujlLbLOlT2"
      },
      "execution_count": 15,
      "outputs": []
    },
    {
      "cell_type": "code",
      "source": [
        "sentences_embeddings = model.encode(sentences)"
      ],
      "metadata": {
        "id": "KOtKxZl_OlWi"
      },
      "execution_count": 16,
      "outputs": []
    },
    {
      "cell_type": "code",
      "source": [
        "sentences_embeddings.shape"
      ],
      "metadata": {
        "colab": {
          "base_uri": "https://localhost:8080/"
        },
        "id": "zWNTYP0fOlY9",
        "outputId": "e633b85b-f2f6-4c65-c127-125de2fb6b5c"
      },
      "execution_count": 17,
      "outputs": [
        {
          "output_type": "execute_result",
          "data": {
            "text/plain": [
              "(13, 768)"
            ]
          },
          "metadata": {},
          "execution_count": 17
        }
      ]
    },
    {
      "cell_type": "code",
      "source": [
        "sentences_embeddings[0]"
      ],
      "metadata": {
        "colab": {
          "base_uri": "https://localhost:8080/"
        },
        "id": "V78NBOj8Olvd",
        "outputId": "e5f04210-6a3b-4f99-c039-ce3adf3b6349"
      },
      "execution_count": 18,
      "outputs": [
        {
          "output_type": "execute_result",
          "data": {
            "text/plain": [
              "array([ 7.44617209e-02,  8.63696814e-01,  1.79464266e-01, -2.03804210e-01,\n",
              "        5.77560812e-02, -3.84834945e-01,  1.99586019e-01,  9.46924865e-01,\n",
              "       -1.36267856e-01,  2.72824347e-01, -2.94658937e-03, -1.37115791e-01,\n",
              "        5.36233902e-01,  6.68742478e-01,  3.10534060e-01,  1.85059994e-01,\n",
              "       -7.95529932e-02,  2.02617705e-01,  4.98476207e-01, -1.06390738e+00,\n",
              "       -1.44949615e-01, -4.65878069e-01, -4.84618694e-01, -9.44364429e-01,\n",
              "        7.77254462e-01,  4.51875150e-01, -2.37356663e-01, -5.71306467e-01,\n",
              "       -6.22071624e-01, -2.18596190e-01, -6.06815577e-01,  2.71750331e-01,\n",
              "        2.25195274e-01,  2.20610991e-01, -2.13399921e-02,  4.28255051e-01,\n",
              "       -6.90099776e-01, -2.77673095e-01, -9.42114070e-02,  2.20617905e-01,\n",
              "        9.61427569e-01, -4.94797885e-01,  4.48158175e-01, -4.10281122e-01,\n",
              "       -6.26279891e-01, -3.14264834e-01,  8.16002131e-01,  7.99038038e-02,\n",
              "       -1.81297466e-01, -6.16720438e-01,  6.93271041e-01,  2.76767612e-01,\n",
              "       -3.40561211e-01, -1.17333889e-01, -2.39008367e-01, -5.80292761e-01,\n",
              "        3.73437971e-01, -4.23990935e-01,  1.52560294e-01, -1.62398428e-01,\n",
              "        3.43885303e-01, -2.33707100e-01, -3.69802743e-01, -6.09502941e-02,\n",
              "       -1.81050554e-01, -2.01203585e-01, -4.49289978e-01,  8.26343834e-01,\n",
              "       -1.08724463e+00, -1.03530390e-02,  3.90918911e-01, -1.80604911e+00,\n",
              "        1.78094476e-01, -7.42363870e-01,  4.73908097e-01, -2.63320595e-01,\n",
              "       -5.43965876e-01,  1.46565989e-01, -2.86113441e-01,  1.42748132e-01,\n",
              "        4.67322469e-01,  1.89554110e-01,  2.86251485e-01, -1.32105917e-01,\n",
              "        2.24886551e-01,  3.37659359e-01, -1.10016897e-01, -3.05467159e-01,\n",
              "       -5.81993401e-01,  4.64448869e-01,  7.85858452e-01,  1.19563353e+00,\n",
              "        6.28913641e-01, -1.29396170e-01, -1.28696573e+00, -2.47214064e-01,\n",
              "        1.89875603e-01,  1.18351117e-01,  4.17788416e-01,  2.13493735e-01,\n",
              "       -8.85273874e-01,  5.73109090e-01, -7.77126610e-01,  1.08179998e+00,\n",
              "       -2.83758461e-01,  4.13826138e-01, -3.77777517e-01, -1.49774238e-01,\n",
              "       -4.32386458e-01, -1.05941668e-01,  4.53730196e-01,  5.58836102e-01,\n",
              "       -1.58770368e-01,  2.27042228e-01, -4.79718864e-01, -1.55982777e-01,\n",
              "        3.08659554e-01,  9.14660275e-01, -8.27558413e-02, -3.60255986e-02,\n",
              "        5.39631486e-01, -9.60302353e-01,  2.08732784e-01, -2.55814195e-01,\n",
              "        5.12814760e-01, -1.49499133e-01,  1.18081369e-01,  9.63825524e-01,\n",
              "       -3.98373634e-01,  6.95103854e-02, -1.91369474e-01,  6.01328433e-01,\n",
              "        8.17169070e-01, -2.36425847e-01, -1.01953864e+00,  2.96263427e-01,\n",
              "        1.19639203e-01,  2.26065833e-02,  1.32656202e-01, -1.31311059e+00,\n",
              "       -3.67268652e-01,  3.32016379e-01, -4.89783704e-01,  5.14749825e-01,\n",
              "       -3.71665567e-01, -4.13142532e-01, -2.16394901e-01, -3.24547350e-01,\n",
              "       -8.25912595e-01,  3.38150829e-01, -3.30964953e-01, -4.61512208e-01,\n",
              "       -2.77596474e-01, -6.07889414e-01,  1.10965781e-01, -4.80519198e-02,\n",
              "       -4.86626685e-01,  3.89285795e-02,  2.18488976e-01, -1.42738909e-01,\n",
              "        8.03616717e-02,  8.98268402e-01,  1.85580462e-01, -2.26485655e-01,\n",
              "        2.93632984e-01, -4.09013659e-01, -2.19827980e-01, -6.80058300e-01,\n",
              "       -5.76528966e-01, -2.94022769e-01, -5.91856956e-01,  3.96284908e-01,\n",
              "        1.08748651e+00, -1.79481819e-01, -2.37351581e-01, -3.96922141e-01,\n",
              "        5.54883182e-01,  4.17354524e-01,  3.63730043e-02, -8.56937706e-01,\n",
              "        2.33203188e-01, -1.31357610e-01,  3.53521496e-01,  5.24910331e-01,\n",
              "       -2.96595901e-01, -1.13795049e-01,  1.06673610e+00, -6.23197913e-01,\n",
              "        2.98886728e-02,  1.28448550e-02, -5.84762931e-01,  1.64972812e-01,\n",
              "       -2.14893818e-01, -2.30492488e-01, -9.60783139e-02,  1.29486337e-01,\n",
              "       -3.70064341e-02,  5.44462442e-01,  6.47855878e-01, -2.50040412e-01,\n",
              "       -3.98321182e-01,  8.64425421e-01,  7.46911645e-01, -2.16114238e-01,\n",
              "        1.98037848e-02,  1.14815187e+00,  8.65121961e-01,  1.13987498e-01,\n",
              "       -3.40172946e-01,  4.20526952e-01,  3.65801975e-02,  5.67559779e-01,\n",
              "        3.53673361e-02, -2.35079020e-01,  4.73315030e-01, -1.84469030e-03,\n",
              "        5.97124338e-01,  2.16321182e-02,  1.87697679e-01,  3.49838197e-01,\n",
              "        2.78728545e-01, -1.94405168e-01, -5.81823528e-01, -4.73714992e-02,\n",
              "       -1.89413369e-01,  2.48647496e-01, -4.75694716e-01, -8.18105340e-01,\n",
              "       -4.73831370e-02, -2.91247457e-01,  2.44641945e-01,  3.65370870e-01,\n",
              "       -1.84719160e-01,  6.03355825e-01,  3.28245372e-01,  1.98474854e-01,\n",
              "       -7.06564486e-01, -7.32205883e-02,  3.19425732e-01, -1.05158715e-02,\n",
              "        1.11829269e+00,  1.49520044e-03,  1.80507049e-01,  3.36275607e-01,\n",
              "       -2.66343445e-01, -8.37428570e-02,  8.23592126e-01, -9.82727036e-02,\n",
              "       -1.75335515e+00, -5.14229164e-02, -3.38997632e-01,  2.69869357e-01,\n",
              "       -1.17688686e-01,  3.86984974e-01,  7.27906942e-01, -7.17197835e-01,\n",
              "       -6.13015831e-01,  6.29826367e-01, -3.92898053e-01, -3.90366375e-01,\n",
              "       -3.45270708e-02, -7.69800723e-01,  6.39400065e-01,  7.02115774e-01,\n",
              "       -1.15158451e+00,  9.50929940e-01,  1.52468979e-01,  1.91783041e-01,\n",
              "       -1.53814450e-01,  9.41051424e-01, -2.13809296e-01, -1.22409844e+00,\n",
              "       -1.52375624e-01,  3.45145017e-01, -2.87994444e-01, -5.19036949e-01,\n",
              "        6.64426312e-02, -3.36194873e-01, -8.15342963e-01,  2.93071598e-01,\n",
              "        1.44359265e-02,  5.92747271e-01, -4.06305045e-01, -7.52272904e-02,\n",
              "       -7.49183536e-01,  1.86320528e-01,  6.08088523e-02, -5.75995743e-01,\n",
              "       -2.48542398e-01, -4.71815795e-01,  6.85371935e-01, -1.34661585e-01,\n",
              "       -1.11007057e-01, -1.16349006e+00, -5.37019312e-01, -3.80452335e-01,\n",
              "        1.25499457e-01, -9.94421959e-01,  6.29172325e-01,  8.72885287e-01,\n",
              "        5.19593395e-02, -5.14868684e-02, -9.56530213e-01,  1.01665127e+00,\n",
              "       -2.54627541e-02,  6.24793880e-02,  3.50334674e-01,  5.10758221e-01,\n",
              "       -1.16634738e+00, -3.48691434e-01, -1.26031923e+00, -4.22713429e-01,\n",
              "        5.41160464e-01,  1.32246232e+00,  2.57039279e-01, -2.65616566e-01,\n",
              "       -7.71870553e-01,  5.36011994e-01,  1.27291873e-01, -5.69821179e-01,\n",
              "        1.12058654e-01,  4.66155320e-01,  1.25849009e-01, -4.05431628e-01,\n",
              "        5.93354143e-02, -3.31988156e-01, -1.62319764e-01,  8.43025893e-02,\n",
              "       -6.22850239e-01, -4.81865674e-01, -3.27689439e-01, -9.08954561e-01,\n",
              "        6.63798451e-02,  1.25595248e+00, -4.27717865e-01,  4.87755895e-01,\n",
              "       -8.07126760e-01,  8.24242592e-01, -5.68599164e-01,  3.02538350e-02,\n",
              "        3.88131201e-01, -9.89169359e-01, -3.63214642e-01, -2.05479950e-01,\n",
              "        6.05115175e-01,  2.40218982e-01,  1.86314091e-01, -1.08447276e-01,\n",
              "       -1.87375709e-01, -3.91625524e-01, -9.51205492e-01,  2.33041663e-02,\n",
              "        1.11064661e+00, -1.40004471e-01, -9.99930575e-02, -3.35085750e-01,\n",
              "       -4.16028619e-01, -2.41713915e-02, -1.47623062e-01, -1.61987573e-01,\n",
              "       -7.23847091e-01,  5.40789306e-01,  9.12975967e-01, -5.22918046e-01,\n",
              "       -9.81948078e-02,  1.15039599e+00,  6.43845126e-02, -5.74775994e-01,\n",
              "        2.22013108e-02, -5.41255653e-01,  4.46464866e-01,  1.11047387e+00,\n",
              "       -1.75767016e+00,  1.69719607e-01, -2.62645781e-01, -4.28449929e-01,\n",
              "        2.54236907e-01, -5.13819277e-01, -9.66103598e-02,  9.17094499e-02,\n",
              "        3.48961890e-01, -7.98676491e-01,  4.24262792e-01,  3.09852421e-01,\n",
              "        1.36642918e-01,  5.80349714e-02,  3.03418905e-01,  1.10773727e-01,\n",
              "       -3.24207634e-01, -2.16382191e-01,  7.63680279e-01,  1.07711518e+00,\n",
              "       -5.58322608e-01, -4.21854883e-01,  1.40775248e-01, -1.70062073e-02,\n",
              "        2.64248073e-01, -4.91277188e-01,  4.37823892e-01, -2.27196753e-01,\n",
              "        1.40347704e-01,  8.47927034e-01, -1.14047997e-01, -1.80207178e-01,\n",
              "        1.03801918e+00,  5.53771138e-01,  6.15551353e-01,  2.22113132e-01,\n",
              "        2.74930149e-01, -9.87221777e-01, -4.68806446e-01, -1.09400773e+00,\n",
              "       -2.03670964e-01, -5.05162954e-01, -3.84483188e-01,  9.21635628e-01,\n",
              "       -3.01123917e-01,  1.02322549e-01, -3.28831732e-01,  1.60931468e+00,\n",
              "        4.55537826e-01, -1.28427315e+00,  1.69790101e+00, -5.93100078e-02,\n",
              "        4.95000243e-01,  1.87797382e-01, -1.45120370e+00, -4.53180261e-03,\n",
              "        2.57919431e-01, -2.20281109e-01, -2.39385620e-01,  4.15318102e-01,\n",
              "       -2.22290039e-01, -2.94290841e-01,  1.33690238e+00, -3.03335041e-01,\n",
              "        6.55826688e-01, -1.50220513e+00, -4.33502495e-01, -5.17460704e-01,\n",
              "       -2.93464303e-01,  1.51289716e-01,  9.09719825e-01, -8.20540369e-01,\n",
              "       -1.33451712e+00, -3.79379600e-01,  2.05898270e-01, -4.06516828e-02,\n",
              "        8.65883648e-01, -2.81340659e-01,  2.02526912e-01,  7.16433823e-01,\n",
              "       -8.25540304e-01,  5.16259968e-01,  1.12564492e+00, -5.90418279e-01,\n",
              "        1.12734430e-01, -1.43701762e-01, -1.17171812e+00,  3.62145931e-01,\n",
              "        6.95851266e-01,  8.18332016e-01,  7.02708736e-02,  1.58089951e-01,\n",
              "        5.40349007e-01,  8.66778553e-01,  8.90095904e-03, -1.58989444e-01,\n",
              "        2.34474748e-01,  2.74984747e-01, -7.84650385e-01,  3.36455903e-03,\n",
              "        8.10534358e-01,  7.46417940e-01,  7.12495089e-01,  5.52467048e-01,\n",
              "        1.92122012e-01,  7.82980144e-01, -9.04501677e-01,  6.66871190e-01,\n",
              "       -4.62565236e-02,  3.52515638e-01,  4.62099016e-01,  1.46195829e+00,\n",
              "       -6.69396460e-01,  2.16095880e-01,  1.70295477e-01,  3.64668429e-01,\n",
              "       -6.86105639e-02, -2.04924211e-01, -5.11283994e-01, -3.61443043e-01,\n",
              "       -2.03087628e-01, -3.37990224e-01,  2.59398162e-01, -1.41426912e-02,\n",
              "       -5.95889449e-01, -1.50315046e-01,  2.03665763e-01,  9.00634006e-02,\n",
              "        8.17652643e-01,  6.52415574e-01, -4.58277822e-01, -1.47456801e+00,\n",
              "        1.28247663e-01, -5.50898194e-01,  5.18672884e-01, -6.50391996e-01,\n",
              "        4.07998294e-01, -5.92592597e-01, -5.07847190e-01, -4.40432638e-01,\n",
              "        8.25438619e-01, -4.87425208e-01, -1.89688623e-01,  5.03547430e-01,\n",
              "        2.01243252e-01,  4.61676180e-01,  4.17620599e-01, -8.62503350e-01,\n",
              "        2.07343072e-01,  8.28497887e-01,  5.57611465e-01, -6.64637625e-01,\n",
              "        3.25449482e-02, -6.46208644e-01,  5.66391945e-01, -2.80754000e-01,\n",
              "        3.87749448e-02, -2.22018480e-01, -6.06947482e-01,  3.19286555e-01,\n",
              "        1.45493820e-01,  1.19098687e+00, -4.76529032e-01, -1.10691273e+00,\n",
              "       -4.23018903e-01, -9.34388757e-01,  2.77862161e-01, -6.37375861e-02,\n",
              "        5.32425761e-01,  7.96043992e-01, -2.05533355e-01, -5.82502723e-01,\n",
              "       -1.78959027e-01,  4.08585519e-01, -5.58851957e-01,  2.25385521e-02,\n",
              "       -1.16514780e-01, -3.66416484e-01,  3.09007436e-01,  1.39371425e-01,\n",
              "        4.70292479e-01, -2.64677703e-01, -3.01672518e-01,  2.69741535e-01,\n",
              "       -3.39392006e-01,  4.95259762e-01, -7.47572601e-01,  2.12891683e-01,\n",
              "        5.68917215e-01,  6.63569868e-01, -1.76896408e-01, -2.88516819e-01,\n",
              "       -1.41763225e-01, -5.93055606e-01, -4.51191992e-01, -9.40902948e-01,\n",
              "       -1.16454053e+00, -3.87412757e-01,  3.22615951e-01, -2.30784491e-01,\n",
              "        1.17809212e+00,  3.84467244e-01, -2.38158390e-01,  5.36444426e-01,\n",
              "        8.69043887e-01, -7.17366993e-01, -4.59859014e-01,  1.45540044e-01,\n",
              "        7.38853663e-02,  7.57332221e-02, -2.53141314e-01,  1.45557866e-01,\n",
              "       -2.66023308e-01, -8.24724555e-01,  6.57456398e-01,  5.64079523e-01,\n",
              "       -3.65517616e-01,  1.49426311e-01, -4.35994714e-01,  1.66214317e-01,\n",
              "       -4.66429517e-02,  2.07860678e-01, -1.61074400e-01,  5.08210948e-03,\n",
              "       -6.58111811e-01,  1.46257353e+00, -3.30968648e-02,  9.26609337e-02,\n",
              "       -4.81271045e-03, -1.02891159e+00, -5.15844643e-01, -8.71075869e-01,\n",
              "       -2.07741603e-01,  9.13802564e-01, -2.09047254e-02,  4.73087847e-01,\n",
              "       -1.80047363e-01, -1.53902590e-01,  9.47501481e-01, -4.51147556e-01,\n",
              "        5.78912437e-01, -1.98717490e-01, -4.54170674e-01,  1.25979140e-01,\n",
              "        1.47025287e+00,  1.30559906e-01,  6.17180467e-01,  4.01971713e-02,\n",
              "       -4.50583130e-01,  4.14251292e-04,  1.10348001e-01, -1.33492625e+00,\n",
              "        1.48411608e+00, -1.11586785e+00,  3.49882752e-01,  6.19070470e-01,\n",
              "       -2.33057842e-01, -6.27204835e-01,  5.18863015e-02, -9.60842147e-02,\n",
              "       -8.61467779e-01,  1.97939843e-01, -3.56352985e-01,  8.64751101e-01,\n",
              "        7.83219457e-01, -3.72518420e-01,  3.61100495e-01,  8.84050652e-02,\n",
              "       -1.30207926e-01, -5.50637901e-01, -1.22218490e+00, -4.75960046e-01,\n",
              "       -2.67025083e-01, -6.72701299e-01,  4.63485986e-01,  5.62331200e-01,\n",
              "        3.54825765e-01,  1.52419895e-01, -4.78026032e-01,  1.39373624e+00,\n",
              "       -4.74167496e-01,  1.03581525e-01, -7.18455493e-01, -1.22157133e+00,\n",
              "        2.59210706e-01,  7.81260788e-01, -6.10703707e-01,  5.02414465e-01,\n",
              "        2.73929626e-01,  3.56109768e-01,  4.79120582e-01,  5.21827638e-01,\n",
              "        5.30850708e-01,  1.22837931e-01, -5.73629320e-01,  1.91597238e-01,\n",
              "       -2.01413203e-02,  7.93190718e-01, -5.87874532e-01,  8.43021989e-01,\n",
              "        1.47059202e+00, -1.45571470e-01,  6.96998984e-02, -4.64775652e-01,\n",
              "       -3.15316528e-01,  6.08427346e-01,  1.11840919e-01, -7.28373170e-01,\n",
              "       -6.51593745e-01, -2.40522772e-01,  3.39626282e-01,  3.66337806e-01,\n",
              "        5.75204611e-01, -7.50203654e-02, -6.61669731e-01,  1.71050936e-01,\n",
              "       -6.92314744e-01, -7.61803865e-01, -2.53593288e-02,  1.20471254e-01,\n",
              "       -2.39036411e-01, -2.50189662e-01,  4.50791031e-01,  5.28434038e-01,\n",
              "       -5.70367694e-01, -1.02480061e-01,  3.57317179e-01,  2.55278260e-01,\n",
              "        2.33219326e-01,  3.25617820e-01, -7.09729254e-01, -7.51669168e-01,\n",
              "        9.67163146e-01,  3.63288134e-01, -8.20234358e-01, -4.70919982e-02,\n",
              "       -5.22102863e-02,  7.87579179e-01,  2.59744544e-02,  1.07655585e+00,\n",
              "       -1.25507009e+00,  1.03848541e+00, -7.80469596e-01,  2.67160743e-01,\n",
              "       -7.68204391e-01,  6.14555955e-01, -5.29787838e-01,  3.43114465e-01,\n",
              "       -2.62570322e-01, -4.62652594e-01, -1.10924709e+00, -1.65595853e+00,\n",
              "       -4.11800444e-01, -4.81210768e-01,  9.56645668e-01,  7.40556300e-01,\n",
              "       -1.07663298e+00, -3.45299542e-01, -1.03931272e+00, -6.53761327e-01,\n",
              "       -1.54534921e-01, -3.00235957e-01,  4.01637495e-01,  3.70507151e-01,\n",
              "       -2.77394623e-01, -1.07711518e+00, -7.33079970e-01, -2.59271473e-01,\n",
              "       -5.97783625e-01, -6.48200810e-01, -7.77223349e-01, -6.05119705e-01,\n",
              "       -4.68858570e-01, -2.38604918e-01,  1.90298066e-01,  3.14491689e-01,\n",
              "       -1.61283668e-02,  5.12888849e-01, -1.22738674e-01, -7.20566809e-01,\n",
              "       -4.53755230e-01,  6.40470266e-01,  1.85486779e-01,  1.97997361e-01,\n",
              "       -3.03340793e-01,  6.54245988e-02, -1.86611876e-01, -4.62162673e-01,\n",
              "       -8.15507472e-01,  3.56777191e-01,  4.59307492e-01, -6.81460798e-01,\n",
              "        4.75528330e-01,  7.73439765e-01,  1.72474873e+00, -1.80274948e-01],\n",
              "      dtype=float32)"
            ]
          },
          "metadata": {},
          "execution_count": 18
        }
      ]
    },
    {
      "cell_type": "code",
      "source": [
        "len( sentences_embeddings[0] )"
      ],
      "metadata": {
        "colab": {
          "base_uri": "https://localhost:8080/"
        },
        "id": "p-0hPTQLOlyE",
        "outputId": "c7fc8b44-d897-4d7a-ae8c-ecc395d70343"
      },
      "execution_count": 19,
      "outputs": [
        {
          "output_type": "execute_result",
          "data": {
            "text/plain": [
              "768"
            ]
          },
          "metadata": {},
          "execution_count": 19
        }
      ]
    },
    {
      "cell_type": "markdown",
      "source": [
        "We can find the most similar sentence using:"
      ],
      "metadata": {
        "id": "1ckN6yifPTfC"
      }
    },
    {
      "cell_type": "code",
      "source": [
        "from sklearn.metrics.pairwise import cosine_similarity"
      ],
      "metadata": {
        "id": "dfvqvyZnPGbO"
      },
      "execution_count": 20,
      "outputs": []
    },
    {
      "cell_type": "code",
      "source": [
        "cosine_similarity(\n",
        "    [sentences_embeddings[0]],\n",
        "    sentences_embeddings[1:]\n",
        ")"
      ],
      "metadata": {
        "colab": {
          "base_uri": "https://localhost:8080/"
        },
        "id": "6EEdheVFPGd-",
        "outputId": "372a0249-8988-4030-afc2-7d5a9377d6ce"
      },
      "execution_count": 21,
      "outputs": [
        {
          "output_type": "execute_result",
          "data": {
            "text/plain": [
              "array([[ 0.33088917,  0.72192585,  0.55483633,  0.17172733,  0.0654632 ,\n",
              "         0.22390366, -0.04003043,  0.13377231,  0.22880363,  0.29557794,\n",
              "         0.26946908,  0.27371725]], dtype=float32)"
            ]
          },
          "metadata": {},
          "execution_count": 21
        }
      ]
    },
    {
      "cell_type": "code",
      "source": [
        "print( f'0: {sentences[0]}' )\n",
        "print( f'2: {sentences[2]}' )"
      ],
      "metadata": {
        "colab": {
          "base_uri": "https://localhost:8080/"
        },
        "id": "MTFmZhqWPi8i",
        "outputId": "e45dbc77-cb6e-4076-e210-a6684affac7d"
      },
      "execution_count": 22,
      "outputs": [
        {
          "output_type": "stream",
          "name": "stdout",
          "text": [
            "0: Three years later, the coffin was still full of Jello.\n",
            "2: The person box was packed with jelly many dozens of months later.\n"
          ]
        }
      ]
    },
    {
      "cell_type": "markdown",
      "source": [
        "K-Means"
      ],
      "metadata": {
        "id": "dVfSnp31RP8c"
      }
    },
    {
      "cell_type": "code",
      "source": [
        "from sklearn.cluster import KMeans"
      ],
      "metadata": {
        "id": "yk5ynLamRtx6"
      },
      "execution_count": 23,
      "outputs": []
    },
    {
      "cell_type": "code",
      "source": [
        "clustersTotal = 5"
      ],
      "metadata": {
        "id": "c0Wy6XpyRkkE"
      },
      "execution_count": 24,
      "outputs": []
    },
    {
      "cell_type": "code",
      "source": [
        "kmeans = KMeans(\n",
        "    n_clusters = clustersTotal, \n",
        "    random_state = 0)\n",
        "kmeans.fit( sentences_embeddings )\n",
        "kmeans"
      ],
      "metadata": {
        "colab": {
          "base_uri": "https://localhost:8080/"
        },
        "id": "sFnfYfT0PjBH",
        "outputId": "b155ed49-0bba-44bb-888e-e6fbaefd0068"
      },
      "execution_count": 25,
      "outputs": [
        {
          "output_type": "execute_result",
          "data": {
            "text/plain": [
              "KMeans(n_clusters=5, random_state=0)"
            ]
          },
          "metadata": {},
          "execution_count": 25
        }
      ]
    },
    {
      "cell_type": "markdown",
      "source": [
        "Evaluating visually the result."
      ],
      "metadata": {
        "id": "MDHs729sTWgb"
      }
    },
    {
      "cell_type": "code",
      "source": [
        "from sklearn.manifold import TSNE\n",
        "import seaborn as sns"
      ],
      "metadata": {
        "id": "mQ1-Qy0wTe5t"
      },
      "execution_count": 27,
      "outputs": []
    },
    {
      "cell_type": "code",
      "source": [
        "%%time\n",
        "\n",
        "tsne = TSNE(n_components=2)\n",
        "tsne = tsne.fit_transform( sentences_embeddings )\n",
        "tsne.shape"
      ],
      "metadata": {
        "colab": {
          "base_uri": "https://localhost:8080/"
        },
        "id": "OVX6RdkCPjEW",
        "outputId": "0780833f-6233-4a5b-905c-8d6b99ec296e"
      },
      "execution_count": 30,
      "outputs": [
        {
          "output_type": "stream",
          "name": "stderr",
          "text": [
            "/usr/local/lib/python3.7/dist-packages/sklearn/manifold/_t_sne.py:783: FutureWarning: The default initialization in TSNE will change from 'random' to 'pca' in 1.2.\n",
            "  FutureWarning,\n",
            "/usr/local/lib/python3.7/dist-packages/sklearn/manifold/_t_sne.py:793: FutureWarning: The default learning rate in TSNE will change from 200.0 to 'auto' in 1.2.\n",
            "  FutureWarning,\n"
          ]
        },
        {
          "output_type": "stream",
          "name": "stdout",
          "text": [
            "CPU times: user 246 ms, sys: 6.38 ms, total: 252 ms\n",
            "Wall time: 372 ms\n"
          ]
        }
      ]
    },
    {
      "cell_type": "code",
      "source": [
        "a = []\n",
        "b = []\n",
        "for item in tsne:\n",
        "    # print(item[0])\n",
        "    a.append( item[0] )\n",
        "    b.append( item[1] )"
      ],
      "metadata": {
        "id": "r9pcD81VPjHI"
      },
      "execution_count": 31,
      "outputs": []
    },
    {
      "cell_type": "code",
      "source": [
        "sns.scatterplot(\n",
        "    x = a, \n",
        "    y = b,\n",
        "    hue = kmeans.labels_,\n",
        "    palette = 'viridis')"
      ],
      "metadata": {
        "colab": {
          "base_uri": "https://localhost:8080/",
          "height": 282
        },
        "id": "Y3VhWf7nPGge",
        "outputId": "144f192d-16e0-4aec-8ff9-ee952e8577d1"
      },
      "execution_count": 32,
      "outputs": [
        {
          "output_type": "execute_result",
          "data": {
            "text/plain": [
              "<matplotlib.axes._subplots.AxesSubplot at 0x7f1a5fd2d690>"
            ]
          },
          "metadata": {},
          "execution_count": 32
        },
        {
          "output_type": "display_data",
          "data": {
            "text/plain": [
              "<Figure size 432x288 with 1 Axes>"
            ],
            "image/png": "[encoded data removed]"
          },
          "metadata": {
            "needs_background": "light"
          }
        }
      ]
    },
    {
      "cell_type": "code",
      "source": [
        ""
      ],
      "metadata": {
        "id": "lGEwt5QBPGjA"
      },
      "execution_count": 25,
      "outputs": []
    },
    {
      "cell_type": "code",
      "source": [
        ""
      ],
      "metadata": {
        "id": "bVPkXk_xPGlk"
      },
      "execution_count": 25,
      "outputs": []
    }
  ]
}