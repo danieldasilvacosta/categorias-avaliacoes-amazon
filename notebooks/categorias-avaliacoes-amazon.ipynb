{
 "cells": [
  {
   "cell_type": "markdown",
   "id": "847a63ec-29cc-4e04-a2e3-ef4fe1223727",
   "metadata": {},
   "source": [
    "### Link da página com avaliações do livro O Hobbit."
   ]
  },
  {
   "cell_type": "code",
   "execution_count": 99,
   "id": "a53d9270-b7a4-473f-9628-1fb5550f329c",
   "metadata": {},
   "outputs": [],
   "source": [
    "# https://www.amazon.com.br/Hobbit-p%C3%B4ster-J-R-R-Tolkien/product-reviews/8595084742/ref=cm_cr_dp_d_show_all_btm?ie=UTF8&reviewerType=all_reviews"
   ]
  },
  {
   "cell_type": "markdown",
   "id": "a696adf0-7491-4556-a842-295951ba58e6",
   "metadata": {},
   "source": [
    "### Links de tutoriais úteis para raspagem de dados."
   ]
  },
  {
   "cell_type": "code",
   "execution_count": 100,
   "id": "b46a0d8e-cb9c-4ccd-a5f5-ac919af80877",
   "metadata": {},
   "outputs": [],
   "source": [
    "# https://www.datacamp.com/courses/natural-language-processing-fundamentals-in-python\n",
    "# https://www.digitalocean.com/community/tutorials/como-fazer-scraping-em-paginas-web-com-beautiful-soup-and-python-3-pt"
   ]
  },
  {
   "cell_type": "code",
   "execution_count": 101,
   "id": "6ad6b78d-e717-4e19-af02-cce4ab6931c9",
   "metadata": {},
   "outputs": [],
   "source": [
    "# Importar bibliotecas\n",
    "import requests\n",
    "from bs4 import BeautifulSoup\n",
    "import csv"
   ]
  },
  {
   "cell_type": "code",
   "execution_count": 102,
   "id": "35a6dfe0-01a2-4462-91a1-a62027294a8e",
   "metadata": {},
   "outputs": [],
   "source": [
    "url = 'https://www.amazon.com.br/Hobbit-p%C3%B4ster-J-R-R-Tolkien/product-reviews/8595084742/ref=cm_cr_dp_d_show_all_btm?ie=UTF8&reviewerType=all_reviews'\n",
    "page = requests.get( url )"
   ]
  },
  {
   "cell_type": "code",
   "execution_count": 103,
   "id": "81b57ae8-4e6d-41d0-aa3a-620e56ad5db8",
   "metadata": {},
   "outputs": [],
   "source": [
    "# page.text"
   ]
  },
  {
   "cell_type": "code",
   "execution_count": 104,
   "id": "4a531dd4-5cdb-4bbb-b29a-6c19b08aff09",
   "metadata": {},
   "outputs": [],
   "source": [
    "# Criar o objeto BeautifulSoup\n",
    "soup = BeautifulSoup(page.text, 'html.parser')\n",
    "# soup"
   ]
  },
  {
   "cell_type": "code",
   "execution_count": 105,
   "id": "a7ee655e-f84b-47b3-895b-5559f1474446",
   "metadata": {},
   "outputs": [],
   "source": [
    "reviews = soup.select('.review')\n",
    "# reviews"
   ]
  },
  {
   "cell_type": "code",
   "execution_count": 106,
   "id": "66c7e5a5-6b62-4b24-9428-c364b9a35d27",
   "metadata": {},
   "outputs": [],
   "source": [
    "reviewTextContent = reviews[0].select('.review-text-content')\n",
    "# reviewTextContent"
   ]
  },
  {
   "cell_type": "code",
   "execution_count": 107,
   "id": "905de1e4-5854-4744-97bc-f13459a1f609",
   "metadata": {},
   "outputs": [
    {
     "data": {
      "text/plain": [
       "3"
      ]
     },
     "execution_count": 107,
     "metadata": {},
     "output_type": "execute_result"
    }
   ],
   "source": [
    "len(reviewTextContent[0].select('span'))"
   ]
  },
  {
   "cell_type": "code",
   "execution_count": 108,
   "id": "f12f3bcf-479e-4c4e-ac41-87595c254dd2",
   "metadata": {},
   "outputs": [
    {
     "data": {
      "text/plain": [
       "<span>\n",
       "   O livro, que já havia lido há tempos e quero renovar a leitura, é simplesmente excelente e maravilhoso. A edição e encadernamento da editora são encantadoras, a capa é dura e totalmente ilustrada. O pôster é lindo e inclusive irei emoldurar :)<br/>Enfim, o produto veio em perfeito estado e é altamente recomendado por mim.<br/>Além disso, a entrega foi extremamente rápida, através da Total Express, e chegou antes do prazo (que já é enxuto). Eu fiz o pedido no dia 06/11 e chegou em minha residência no dia 11/11 (teve final de semana nesse período, sendo que o produto chegou em minha cidade no dia 09/11).<br/>Finalmente, tanto o produto quanto a entrega são perfeitos! Simplesmente isso.\n",
       "</span>"
      ]
     },
     "execution_count": 108,
     "metadata": {},
     "output_type": "execute_result"
    }
   ],
   "source": [
    "quantidadeElementosSpan = len(reviewTextContent[0].select('span'))\n",
    "texto = reviewTextContent[0].select('span')[quantidadeElementosSpan - 1]\n",
    "texto"
   ]
  },
  {
   "cell_type": "markdown",
   "id": "1dcfa776-e22d-4b38-bbaa-f830b38ac3d8",
   "metadata": {},
   "source": [
    "### Percorrendo a lista de reviews da página"
   ]
  },
  {
   "cell_type": "code",
   "execution_count": 114,
   "id": "fe649c24-c2b6-4f2f-9403-2944aae82e0f",
   "metadata": {},
   "outputs": [],
   "source": [
    "url = 'https://www.amazon.com.br/Hobbit-p%C3%B4ster-J-R-R-Tolkien/product-reviews/8595084742/ref=cm_cr_dp_d_show_all_btm?ie=UTF8&reviewerType=all_reviews'\n",
    "page = requests.get( url )"
   ]
  },
  {
   "cell_type": "code",
   "execution_count": 115,
   "id": "6b06a4b6-e54b-415c-a6f5-0ce038e6c894",
   "metadata": {},
   "outputs": [],
   "source": [
    "# Criar o objeto BeautifulSoup\n",
    "soup = BeautifulSoup(page.text, 'html.parser')\n",
    "# soup"
   ]
  },
  {
   "cell_type": "code",
   "execution_count": 119,
   "id": "b9bbb4bd-1c30-4e3f-b38a-2c799daf2081",
   "metadata": {},
   "outputs": [],
   "source": [
    "reviews = soup.select('.review')\n",
    "# reviews"
   ]
  },
  {
   "cell_type": "code",
   "execution_count": 131,
   "id": "443c96a9-bcf5-4e4b-bf63-e522a012186f",
   "metadata": {},
   "outputs": [
    {
     "name": "stdout",
     "output_type": "stream",
     "text": [
      "<span>\n",
      "   O livro, que já havia lido há tempos e quero renovar a leitura, é simplesmente excelente e maravilhoso. A edição e encadernamento da editora são encantadoras, a capa é dura e totalmente ilustrada. O pôster é lindo e inclusive irei emoldurar :)<br/>Enfim, o produto veio em perfeito estado e é altamente recomendado por mim.<br/>Além disso, a entrega foi extremamente rápida, através da Total Express, e chegou antes do prazo (que já é enxuto). Eu fiz o pedido no dia 06/11 e chegou em minha residência no dia 11/11 (teve final de semana nesse período, sendo que o produto chegou em minha cidade no dia 09/11).<br/>Finalmente, tanto o produto quanto a entrega são perfeitos! Simplesmente isso.\n",
      "</span>\n",
      "\n",
      "===================================================\n",
      "\n",
      "<span>\n",
      "  Somos capazes de sentir o cuidado e a paixão com que um produto foi feito ao colocar-mos as mãos nele. Esta edição da HarperCollins é este tipo de produto; aliás, todas as edições referentes a Tolkien publicados pela editora até o momento são este tipo de produto.<br/><br/>A capa é maravilhosa (na parte superior e inferior da capa há inscrições em runas, em baixo relevo), papel de ótima qualidade e texto com boa diagramação. O livro possui um fitilho verde para marcar a página e contém desenhos feitos por Tolkien (alguns apenas com o traço preto e outros totalmente coloridos) e impressos de uma forma (qualidade) que parecem brilhar.<br/><br/>Já havia lido o Hobbit e agora lerei novamente... Ansioso pela trilogia do Senhor dos Anéis no final do ano, já tenho outros livros da editora e é de admirar o cuidado que estão tendo.<br/><br/>A coleção está ficando linda na estante (lombadas padronizadas).\n",
      "</span>\n",
      "\n",
      "===================================================\n",
      "\n",
      "<span>\n",
      "  Esse definitivamente é o melhor livro para quem deseja entrar no universo criado por Tolkien. A história do Hobbit pode parecer ter sido feita a princípio para crianças (e realmente foi), mas o desenrolar e seu desenvolvimento nos levam a algo grandioso que só podemos mensurar com a obra-prima do Tolkien que é o Senhor dos Anéis. Aliás, parabéns a Harper Collins por nos trazer finalmente, edições caprichadas e de qualidade. Não posso deixar também de elogiar o trabalho feito pelo conselho de tradução das novas edições que têm sido duramente criticado.<br/>Sigam em frente.<br/>Aliás àqueles que criticam tanto a nova tradução e se apegam a dois termos mudados (Orcs e Goblins que foram mudados foneticamente para Orques e Gobelins), parem de chatice e deixem de besteira. Muito pior foram as omissões e mudanças de trechos feitos no Senhor dos Anéis, e a maioria dos hoje críticos ficaram quietinhos com a língua dentro da boca...<br/>Vamos deixar de besteira e incentivar minha gente. Lógico que críticas são sempre bem-vindas. Mas críticas feitas com qualidade, tato, decência e não com o fígado e a bílis. Vamos comemorar que as obras do Professor Tolkien estão sendo reimpressas com material de qualidade e com o devido carinho que elas merecem. No mais aproveitem para saborear a delícia que é esse universo criado por esse grande gênio da fantasia. E que venha o Senhor dos Anéis no final do Ano!!!\n",
      "</span>\n",
      "\n",
      "===================================================\n",
      "\n",
      "<span>\n",
      "  Essa edição está primorosa. Quanto à história, se trata de uma aventura deliciosa de se ler; é daquelas que fazem as pessoas aprenderem a gostar de ler literatura de alto nível.\n",
      "</span>\n",
      "\n",
      "===================================================\n",
      "\n",
      "<span>\n",
      "  Eu sou uma fã e amo as obras de J.R.R Tolkien, comprei este exemplar porque eu não tinha está edição e como colecionadora era de meu desejo obtê-lo, porém, fiquei decepcionada ao constatar que veio com uma das páginas danificadas, fora rasgada e ainda sim, me enviaram desta forma. Já havia comprado pela Amazon livros diversas vezes e nunca me ocorreu tal situação, contudo, aconteceu hoje.\n",
      "</span>\n",
      "\n",
      "===================================================\n",
      "\n",
      "<span>\n",
      "  Primeiro, preciso dizer que o livro é ainda mais bonito em mãos. Temos aqui uma edição de O Hobbit à altura da obra.<br><br/>Assim como os livros anteriores de Tolkien lançados pela Harper Collins Brasil, este é apresentado em capa dura, com ilustração de capa feita pelo mestre. As guardas contém o mapa da Terra-média e o da Montanha Solitária. A edição conta com fitilho marcador, diversas ilustrações de lugares e eventos marcantes, notas variadas que esmiuçam o conteúdo dos escritos. A diagramação e a revisão estão ótimas, propiciando uma leitura fluida e agradável. Inclui ainda um pôster para quem comprou na pré-venda.\n",
      "</br></span>\n",
      "\n",
      "===================================================\n",
      "\n",
      "<span>\n",
      "  Excelente trabalho da editora Harpercollins! Esta editora vem mantendo uma boa qualidade nos livros que vêm sendo lançados no Brasil. Esta edição conta até mesmo com filete marcador de páginas: algo que só vemos nas melhores edições de livros. Além disso foi realizado um excelente trabalho de retradução por parte do Reinaldo José Lopes!\n",
      "</span>\n",
      "\n",
      "===================================================\n",
      "\n",
      "<span>\n",
      "  Livro com as pontas em capa dura quebradas, amassadas e com o papel rasgado. Um item de colecionador danificado. Nunca tive problemas com a Amazon, mas deixar que um livro nesse estado chegue ao cliente é triste.\n",
      "</span>\n",
      "\n",
      "===================================================\n",
      "\n",
      "<span>\n",
      "  Recentemente comprei o livro \"O Hobbit\" ao meu filho de 13 anos, um adolescente apaixonado pelo universo do escritor J.R.R Tolkien. Não tivemos nenhum problema com a entrega do livro chegou até antes do prazo (14/01/2021). Mas após uma semana de uso no dia 21 notamos que o título do livro simplesmente apagou até só sobrar as letras \"O\" e \"H\". Gostaria de devolver o livro e receber um novo, fico no aguardo de uma resposta!\n",
      "</span>\n",
      "\n",
      "===================================================\n",
      "\n",
      "<span>\n",
      "  Produto em si ótimo. Podiam ter mais cuidado na entrega. Porém chegou com com capa traseira com um pequeno rasgo. Acabei colando pra não ter a dor de cabeça de trocar\n",
      "</span>\n",
      "\n",
      "===================================================\n",
      "\n"
     ]
    }
   ],
   "source": [
    "for review in reviews:\n",
    "    # print(review)\n",
    "\n",
    "    reviewTextContent = review.select('.review-text-content')\n",
    "    # print(reviewTextContent)\n",
    "    \n",
    "    quantidadeElementosSpan = len(reviewTextContent[0].select('span'))\n",
    "    texto = reviewTextContent[0].select('span')[quantidadeElementosSpan - 1]\n",
    "    print(texto)\n",
    "    \n",
    "    print('\\n===================================================\\n')"
   ]
  },
  {
   "cell_type": "code",
   "execution_count": null,
   "id": "f317a4a8-6e73-4b6d-9405-22f3bb2dd94e",
   "metadata": {},
   "outputs": [],
   "source": []
  },
  {
   "cell_type": "code",
   "execution_count": null,
   "id": "53db6665-922f-4bd1-a4f8-577d539c8c8f",
   "metadata": {},
   "outputs": [],
   "source": []
  }
 ],
 "metadata": {
  "kernelspec": {
   "display_name": "Python 3 (ipykernel)",
   "language": "python",
   "name": "python3"
  },
  "language_info": {
   "codemirror_mode": {
    "name": "ipython",
    "version": 3
   },
   "file_extension": ".py",
   "mimetype": "text/x-python",
   "name": "python",
   "nbconvert_exporter": "python",
   "pygments_lexer": "ipython3",
   "version": "3.10.3"
  }
 },
 "nbformat": 4,
 "nbformat_minor": 5
}
