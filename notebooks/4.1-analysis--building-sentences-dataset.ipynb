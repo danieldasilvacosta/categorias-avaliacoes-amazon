{
 "cells": [
  {
   "cell_type": "markdown",
   "id": "84f752fe-91fe-412e-ad39-50f93f9fdbf9",
   "metadata": {
    "tags": []
   },
   "source": [
    "# Second Analysis\n",
    "\n",
    "#### Building a dataframe of sentences and building a new dataset of sentences.\n",
    "\n",
    "#### Using Spacy and K-Means to analyze the tokens and try to group the contained sentences in each review."
   ]
  },
  {
   "cell_type": "markdown",
   "id": "3828b010-f6ec-433f-a426-3dba176befdc",
   "metadata": {},
   "source": [
    "Good tutorials and other texts\n",
    "\n",
    "- Tutorial: Text Classification in Python Using spaCy\n",
    "https://www.dataquest.io/blog/tutorial-text-classification-in-python-using-spacy/"
   ]
  },
  {
   "cell_type": "markdown",
   "id": "9c98d30c-7ae3-47c8-8a06-2fca0e210697",
   "metadata": {},
   "source": [
    "## Importing all needed packages\n",
    "\n",
    "#### Command to install **spaCy** package: ***pip install spacy***"
   ]
  },
  {
   "cell_type": "code",
   "execution_count": 15,
   "id": "2dd35f92-f3cb-4b2b-b7f2-4280f5361458",
   "metadata": {},
   "outputs": [],
   "source": [
    "import pandas as pd\n",
    "import numpy as np\n",
    "from wordcloud import WordCloud\n",
    "import matplotlib.pyplot as plt\n",
    "import time\n",
    "import spacy\n",
    "from tqdm import tqdm \n",
    "from sklearn.feature_extraction.text import CountVectorizer, TfidfVectorizer\n",
    "from sklearn.cluster import KMeans\n",
    "from sklearn.decomposition import PCA\n",
    "from sklearn.manifold import MDS, TSNE\n",
    "from gensim.models import LdaModel, LdaMulticore\n",
    "from gensim.corpora import Dictionary\n",
    "from gensim.utils import simple_preprocess\n",
    "import seaborn as sns\n",
    "import re\n",
    "from pprint import pprint"
   ]
  },
  {
   "cell_type": "markdown",
   "id": "7e0ecac5-c88d-4b38-93db-5c126d1772c7",
   "metadata": {},
   "source": [
    "## Installing and loading the Portuguese pipeline.\n",
    "To install Portuguese pipeline by command line, type: *python -m spacy download pt_core_news_lg*\n",
    "See more on: https://spacy.io/models/pt#pt_core_news_lg\n"
   ]
  },
  {
   "cell_type": "code",
   "execution_count": 16,
   "id": "f2acd50b-fcba-4607-9d5c-3b6cd2320f3c",
   "metadata": {},
   "outputs": [],
   "source": [
    "nlp = spacy.load('pt_core_news_lg') # https://spacy.io/models/pt#pt_core_news_lg"
   ]
  },
  {
   "cell_type": "code",
   "execution_count": 17,
   "id": "248c7aa6-ec52-4400-a7ec-4641565c60b5",
   "metadata": {},
   "outputs": [
    {
     "data": {
      "text/html": [
       "<div>\n",
       "<style scoped>\n",
       "    .dataframe tbody tr th:only-of-type {\n",
       "        vertical-align: middle;\n",
       "    }\n",
       "\n",
       "    .dataframe tbody tr th {\n",
       "        vertical-align: top;\n",
       "    }\n",
       "\n",
       "    .dataframe thead th {\n",
       "        text-align: right;\n",
       "    }\n",
       "</style>\n",
       "<table border=\"1\" class=\"dataframe\">\n",
       "  <thead>\n",
       "    <tr style=\"text-align: right;\">\n",
       "      <th></th>\n",
       "      <th>book_id</th>\n",
       "      <th>review_id</th>\n",
       "      <th>review_rating</th>\n",
       "      <th>review_title</th>\n",
       "      <th>review_text</th>\n",
       "    </tr>\n",
       "  </thead>\n",
       "  <tbody>\n",
       "    <tr>\n",
       "      <th>0</th>\n",
       "      <td>8595081530</td>\n",
       "      <td>RM0NBXMBSU4M3</td>\n",
       "      <td>4</td>\n",
       "      <td>Um dos melhores livros sobre introdução ao con...</td>\n",
       "      <td>Sabe todos aqueles livros que ensinam você a c...</td>\n",
       "    </tr>\n",
       "    <tr>\n",
       "      <th>1</th>\n",
       "      <td>8595081530</td>\n",
       "      <td>R3KC0ZLPQX85LT</td>\n",
       "      <td>5</td>\n",
       "      <td>Livro excelente</td>\n",
       "      <td>Ensinamentos que eu tive quando li o livro:1. ...</td>\n",
       "    </tr>\n",
       "    <tr>\n",
       "      <th>2</th>\n",
       "      <td>8595081530</td>\n",
       "      <td>R2UADYH9X17S5V</td>\n",
       "      <td>4</td>\n",
       "      <td>Enriquecedor</td>\n",
       "      <td>Sucinto livro de parábolas, O homem mais rico ...</td>\n",
       "    </tr>\n",
       "    <tr>\n",
       "      <th>3</th>\n",
       "      <td>8595081530</td>\n",
       "      <td>RGJ6BAA0J8P77</td>\n",
       "      <td>5</td>\n",
       "      <td>Ótima leitura de fácil compreensão e ensinamen...</td>\n",
       "      <td>De forma clara traz ensinamentos sobre educaçã...</td>\n",
       "    </tr>\n",
       "    <tr>\n",
       "      <th>4</th>\n",
       "      <td>8595081530</td>\n",
       "      <td>RZ65FZEPU1Y8V</td>\n",
       "      <td>1</td>\n",
       "      <td>O livro O homem mais rico da Babilônia está fa...</td>\n",
       "      <td>O livro O homem mais rico da Babilônia está fa...</td>\n",
       "    </tr>\n",
       "  </tbody>\n",
       "</table>\n",
       "</div>"
      ],
      "text/plain": [
       "      book_id       review_id review_rating  \\\n",
       "0  8595081530   RM0NBXMBSU4M3             4   \n",
       "1  8595081530  R3KC0ZLPQX85LT             5   \n",
       "2  8595081530  R2UADYH9X17S5V             4   \n",
       "3  8595081530   RGJ6BAA0J8P77             5   \n",
       "4  8595081530   RZ65FZEPU1Y8V             1   \n",
       "\n",
       "                                        review_title  \\\n",
       "0  Um dos melhores livros sobre introdução ao con...   \n",
       "1                                    Livro excelente   \n",
       "2                                       Enriquecedor   \n",
       "3  Ótima leitura de fácil compreensão e ensinamen...   \n",
       "4  O livro O homem mais rico da Babilônia está fa...   \n",
       "\n",
       "                                         review_text  \n",
       "0  Sabe todos aqueles livros que ensinam você a c...  \n",
       "1  Ensinamentos que eu tive quando li o livro:1. ...  \n",
       "2  Sucinto livro de parábolas, O homem mais rico ...  \n",
       "3  De forma clara traz ensinamentos sobre educaçã...  \n",
       "4  O livro O homem mais rico da Babilônia está fa...  "
      ]
     },
     "execution_count": 17,
     "metadata": {},
     "output_type": "execute_result"
    }
   ],
   "source": [
    "rawDf = pd.read_csv( \n",
    "    './datasets/treated_csv_file.csv',\n",
    "    encoding = 'UTF8',\n",
    "    sep = ';');\n",
    "rawDf.head()"
   ]
  },
  {
   "cell_type": "code",
   "execution_count": 18,
   "id": "fa3982a7-5ad4-4a10-881b-930a75ed77c1",
   "metadata": {},
   "outputs": [
    {
     "data": {
      "text/html": [
       "<div>\n",
       "<style scoped>\n",
       "    .dataframe tbody tr th:only-of-type {\n",
       "        vertical-align: middle;\n",
       "    }\n",
       "\n",
       "    .dataframe tbody tr th {\n",
       "        vertical-align: top;\n",
       "    }\n",
       "\n",
       "    .dataframe thead th {\n",
       "        text-align: right;\n",
       "    }\n",
       "</style>\n",
       "<table border=\"1\" class=\"dataframe\">\n",
       "  <thead>\n",
       "    <tr style=\"text-align: right;\">\n",
       "      <th></th>\n",
       "      <th>book_id</th>\n",
       "      <th>review_id</th>\n",
       "      <th>review_rating</th>\n",
       "      <th>review_title</th>\n",
       "      <th>review_text</th>\n",
       "    </tr>\n",
       "  </thead>\n",
       "  <tbody>\n",
       "    <tr>\n",
       "      <th>0</th>\n",
       "      <td>8595081530</td>\n",
       "      <td>RM0NBXMBSU4M3</td>\n",
       "      <td>4</td>\n",
       "      <td>Um dos melhores livros sobre introdução ao con...</td>\n",
       "      <td>Sabe todos aqueles livros que ensinam você a c...</td>\n",
       "    </tr>\n",
       "    <tr>\n",
       "      <th>1</th>\n",
       "      <td>8595081530</td>\n",
       "      <td>R3KC0ZLPQX85LT</td>\n",
       "      <td>5</td>\n",
       "      <td>Livro excelente</td>\n",
       "      <td>Ensinamentos que eu tive quando li o livro:1. ...</td>\n",
       "    </tr>\n",
       "    <tr>\n",
       "      <th>2</th>\n",
       "      <td>8595081530</td>\n",
       "      <td>R2UADYH9X17S5V</td>\n",
       "      <td>4</td>\n",
       "      <td>Enriquecedor</td>\n",
       "      <td>Sucinto livro de parábolas, O homem mais rico ...</td>\n",
       "    </tr>\n",
       "    <tr>\n",
       "      <th>3</th>\n",
       "      <td>8595081530</td>\n",
       "      <td>RGJ6BAA0J8P77</td>\n",
       "      <td>5</td>\n",
       "      <td>Ótima leitura de fácil compreensão e ensinamen...</td>\n",
       "      <td>De forma clara traz ensinamentos sobre educaçã...</td>\n",
       "    </tr>\n",
       "    <tr>\n",
       "      <th>4</th>\n",
       "      <td>8595081530</td>\n",
       "      <td>RZ65FZEPU1Y8V</td>\n",
       "      <td>1</td>\n",
       "      <td>O livro O homem mais rico da Babilônia está fa...</td>\n",
       "      <td>O livro O homem mais rico da Babilônia está fa...</td>\n",
       "    </tr>\n",
       "  </tbody>\n",
       "</table>\n",
       "</div>"
      ],
      "text/plain": [
       "      book_id       review_id review_rating  \\\n",
       "0  8595081530   RM0NBXMBSU4M3             4   \n",
       "1  8595081530  R3KC0ZLPQX85LT             5   \n",
       "2  8595081530  R2UADYH9X17S5V             4   \n",
       "3  8595081530   RGJ6BAA0J8P77             5   \n",
       "4  8595081530   RZ65FZEPU1Y8V             1   \n",
       "\n",
       "                                        review_title  \\\n",
       "0  Um dos melhores livros sobre introdução ao con...   \n",
       "1                                    Livro excelente   \n",
       "2                                       Enriquecedor   \n",
       "3  Ótima leitura de fácil compreensão e ensinamen...   \n",
       "4  O livro O homem mais rico da Babilônia está fa...   \n",
       "\n",
       "                                         review_text  \n",
       "0  Sabe todos aqueles livros que ensinam você a c...  \n",
       "1  Ensinamentos que eu tive quando li o livro:1. ...  \n",
       "2  Sucinto livro de parábolas, O homem mais rico ...  \n",
       "3  De forma clara traz ensinamentos sobre educaçã...  \n",
       "4  O livro O homem mais rico da Babilônia está fa...  "
      ]
     },
     "execution_count": 18,
     "metadata": {},
     "output_type": "execute_result"
    }
   ],
   "source": [
    "df = rawDf\n",
    "df.head()"
   ]
  },
  {
   "cell_type": "markdown",
   "id": "63906924-38fd-4d7c-a264-9b66d1c9d352",
   "metadata": {
    "tags": []
   },
   "source": [
    "### Some values in the *review_text* column are *nan* so I changed the values to an empty string to avoid breaking the program when reading each item to extract the sentences.\n",
    "\n",
    "One example:\n",
    "\n",
    "|book_id|review_id|review_rating|review_title|review_text|\n",
    "|:------|:------:|:------:|:------|:------:|\n",
    "|8547000240|R1QX38W7D6QOQ4|5<!-- .element: style=\"text-align:center;\" -->|livro maravilhoso, ainda estou acabando de ler mais posso afirma que e espetacular.|nan|"
   ]
  },
  {
   "cell_type": "code",
   "execution_count": 19,
   "id": "3ad8e5f8-8aa5-4429-92a3-855ea7394a01",
   "metadata": {},
   "outputs": [
    {
     "data": {
      "text/html": [
       "<div>\n",
       "<style scoped>\n",
       "    .dataframe tbody tr th:only-of-type {\n",
       "        vertical-align: middle;\n",
       "    }\n",
       "\n",
       "    .dataframe tbody tr th {\n",
       "        vertical-align: top;\n",
       "    }\n",
       "\n",
       "    .dataframe thead th {\n",
       "        text-align: right;\n",
       "    }\n",
       "</style>\n",
       "<table border=\"1\" class=\"dataframe\">\n",
       "  <thead>\n",
       "    <tr style=\"text-align: right;\">\n",
       "      <th></th>\n",
       "      <th>book_id</th>\n",
       "      <th>review_id</th>\n",
       "      <th>review_rating</th>\n",
       "      <th>review_title</th>\n",
       "      <th>review_text</th>\n",
       "    </tr>\n",
       "  </thead>\n",
       "  <tbody>\n",
       "    <tr>\n",
       "      <th>0</th>\n",
       "      <td>8595081530</td>\n",
       "      <td>RM0NBXMBSU4M3</td>\n",
       "      <td>4</td>\n",
       "      <td>Um dos melhores livros sobre introdução ao con...</td>\n",
       "      <td>Sabe todos aqueles livros que ensinam você a c...</td>\n",
       "    </tr>\n",
       "    <tr>\n",
       "      <th>1</th>\n",
       "      <td>8595081530</td>\n",
       "      <td>R3KC0ZLPQX85LT</td>\n",
       "      <td>5</td>\n",
       "      <td>Livro excelente</td>\n",
       "      <td>Ensinamentos que eu tive quando li o livro:1. ...</td>\n",
       "    </tr>\n",
       "    <tr>\n",
       "      <th>2</th>\n",
       "      <td>8595081530</td>\n",
       "      <td>R2UADYH9X17S5V</td>\n",
       "      <td>4</td>\n",
       "      <td>Enriquecedor</td>\n",
       "      <td>Sucinto livro de parábolas, O homem mais rico ...</td>\n",
       "    </tr>\n",
       "    <tr>\n",
       "      <th>3</th>\n",
       "      <td>8595081530</td>\n",
       "      <td>RGJ6BAA0J8P77</td>\n",
       "      <td>5</td>\n",
       "      <td>Ótima leitura de fácil compreensão e ensinamen...</td>\n",
       "      <td>De forma clara traz ensinamentos sobre educaçã...</td>\n",
       "    </tr>\n",
       "    <tr>\n",
       "      <th>4</th>\n",
       "      <td>8595081530</td>\n",
       "      <td>RZ65FZEPU1Y8V</td>\n",
       "      <td>1</td>\n",
       "      <td>O livro O homem mais rico da Babilônia está fa...</td>\n",
       "      <td>O livro O homem mais rico da Babilônia está fa...</td>\n",
       "    </tr>\n",
       "  </tbody>\n",
       "</table>\n",
       "</div>"
      ],
      "text/plain": [
       "      book_id       review_id review_rating  \\\n",
       "0  8595081530   RM0NBXMBSU4M3             4   \n",
       "1  8595081530  R3KC0ZLPQX85LT             5   \n",
       "2  8595081530  R2UADYH9X17S5V             4   \n",
       "3  8595081530   RGJ6BAA0J8P77             5   \n",
       "4  8595081530   RZ65FZEPU1Y8V             1   \n",
       "\n",
       "                                        review_title  \\\n",
       "0  Um dos melhores livros sobre introdução ao con...   \n",
       "1                                    Livro excelente   \n",
       "2                                       Enriquecedor   \n",
       "3  Ótima leitura de fácil compreensão e ensinamen...   \n",
       "4  O livro O homem mais rico da Babilônia está fa...   \n",
       "\n",
       "                                         review_text  \n",
       "0  Sabe todos aqueles livros que ensinam você a c...  \n",
       "1  Ensinamentos que eu tive quando li o livro:1. ...  \n",
       "2  Sucinto livro de parábolas, O homem mais rico ...  \n",
       "3  De forma clara traz ensinamentos sobre educaçã...  \n",
       "4  O livro O homem mais rico da Babilônia está fa...  "
      ]
     },
     "execution_count": 19,
     "metadata": {},
     "output_type": "execute_result"
    }
   ],
   "source": [
    "rawDf = pd.read_csv( \n",
    "    './datasets/treated_csv_file.csv',\n",
    "    encoding = 'UTF8',\n",
    "    sep = ';');\n",
    "rawDf.head()"
   ]
  },
  {
   "cell_type": "code",
   "execution_count": 20,
   "id": "e2452f18-eab9-430c-9790-f9a86053e241",
   "metadata": {},
   "outputs": [
    {
     "name": "stdout",
     "output_type": "stream",
     "text": [
      "<class 'pandas.core.frame.DataFrame'>\n",
      "RangeIndex: 72777 entries, 0 to 72776\n",
      "Data columns (total 5 columns):\n",
      " #   Column         Non-Null Count  Dtype \n",
      "---  ------         --------------  ----- \n",
      " 0   book_id        72777 non-null  int64 \n",
      " 1   review_id      72777 non-null  object\n",
      " 2   review_rating  72777 non-null  object\n",
      " 3   review_title   72700 non-null  object\n",
      " 4   review_text    72774 non-null  object\n",
      "dtypes: int64(1), object(4)\n",
      "memory usage: 2.8+ MB\n"
     ]
    }
   ],
   "source": [
    "df = rawDf\n",
    "df.info()"
   ]
  },
  {
   "cell_type": "code",
   "execution_count": 21,
   "id": "3ff2b6d5-dc31-4520-aabf-9e371f092e29",
   "metadata": {},
   "outputs": [],
   "source": [
    "df['review_text'] = df['review_text'].fillna('')"
   ]
  },
  {
   "cell_type": "code",
   "execution_count": 22,
   "id": "11aaa420-f1bc-4718-8634-104f5828accb",
   "metadata": {},
   "outputs": [
    {
     "data": {
      "text/plain": [
       "False"
      ]
     },
     "execution_count": 22,
     "metadata": {},
     "output_type": "execute_result"
    }
   ],
   "source": [
    "df['review_text'].isnull().values.any()"
   ]
  },
  {
   "cell_type": "code",
   "execution_count": 23,
   "id": "8e92e406-ad43-40f5-b7cc-afddf441120d",
   "metadata": {},
   "outputs": [],
   "source": [
    "reviewPosition = 1"
   ]
  },
  {
   "cell_type": "code",
   "execution_count": 24,
   "id": "ecbe6a50-15c8-4f9a-b2f9-b2446e151487",
   "metadata": {},
   "outputs": [
    {
     "data": {
      "text/plain": [
       "book_id                                                 8595081530\n",
       "review_id                                           R3KC0ZLPQX85LT\n",
       "review_rating                                                    5\n",
       "review_title                                       Livro excelente\n",
       "review_text      Ensinamentos que eu tive quando li o livro:1. ...\n",
       "Name: 1, dtype: object"
      ]
     },
     "execution_count": 24,
     "metadata": {},
     "output_type": "execute_result"
    }
   ],
   "source": [
    "df.iloc[reviewPosition]"
   ]
  },
  {
   "cell_type": "code",
   "execution_count": 25,
   "id": "bc33f7aa-ab03-4d3b-a4b9-aa84b74ace3e",
   "metadata": {},
   "outputs": [
    {
     "data": {
      "text/plain": [
       "Ensinamentos que eu tive quando li o livro:1. Primeiro pague a si mesmo e depois aos outros.“Uma parte de todos os seus ganhos pertencem exclusivamente a você.”Quando trabalhamos e recebemos o dinheiro, é essencial que peguemos uma parte para guardar. No livro se fala que se você ganha 10 moedas, você precisa guardar pelo menos uma. As outras 9 moedas você pode gastar. Mas quando se diz em gastar, estão falando das coisas que realmente precisamos ter. Gastar com necessidades, e não com desejos.Precisamos gastar menos do que ganhamos.2. Controle os seus gastos. Muitas pessoas acham que o salário que ganham não é o suficiente para pagar as contas do mês, quem dirá conseguir guardar um dinheiro. Por isso, precisamos saber exatamente no que gastamos. É necessário examinar cuidadosamente seu habitual modo de viver, para isso, é fundamental anotar as suas despesas, fazer um orçamento para saber o que é essencial é o que pode ser cortado.3. Multiplique o seu dinheiro.Depois que você conseguir guardar o seu dinheiro, chegou a hora de multiplicado-lo e fazer com que ele trabalhe para você. É importante investir o seu dinheiro, não deixá-lo parado, para assim acumular a riqueza mais facilmente. Pegue suas economias para que elas possam lhe gerar frutos, e então reinvista os frutos. Não adianta só poupar, devemos investir.4. Assegure uma renda para o futuro.  É essencial que tenhamos um dinheiro guardado para aproveitar a aposentadoria. Devemos guardar uma parte do que ganhamos para tal fato, ter uma reserva de emergência e colocarmos metas para cumpri-la.5. Não seja um procrastinador.Devemos focar em nossos objetivos. Muitas pessoas querem ganhar dinheiro, porém, ficam inertes. Para se alcançar a riqueza, é necessário correr atrás dela, ter o poder da ação.Pessoas procrastinadoras deixam tudo para a última hora, acham que ainda são novas para guardar dinheiro e querem aproveitar a vida, mas quando o tempo passa percebem que cometeram um erro, o erro de não se movimentar. “Os homens de ação são favorecidos pela deusa da boa sorte”.6.Saiba aonde investir  “Proteja seu tesouro contra a perda” É necessário saber aonde investir os seus frutos, devemos diversificar os investimentos, e não colocar o dinheiro em um só lugar. Em uma passagem do livro, se fala que não devemos investir naquilo que não conhecemos e que não devemos confiar cegamente em nossos próprios conhecimentos. Devemos seguir a opinião daqueles que lidam habitualmente com o dinheiro, pessoas em quem confiamos. Temos que ter segurança, pois é isso que buscamos.7.Alcance uma maneira de ganhar mais dinheiro  Devemos sempre nos aprimorar em nossa profissão, procurar cursos e buscar a excelência para assim podermos ganhar mais dinheiro.Estude, pesquise, pense em coisas novas para alcançar o seu objetivo. Sempre devemos buscar melhores resultados.8. Ninguém é dono de todo conhecimento .  Devemos sempre nos aperfeiçoar e aprender com pessoas que sabem e possuem mais conhecimento, é importante estar ao lado de pessoas que tem algo a nos ensinar e acrescentar em nossas vidas."
      ]
     },
     "execution_count": 25,
     "metadata": {},
     "output_type": "execute_result"
    }
   ],
   "source": [
    "doc = nlp( u''.join(df.iloc[reviewPosition]['review_text']) )\n",
    "doc"
   ]
  },
  {
   "cell_type": "code",
   "execution_count": 26,
   "id": "f22009a2-494e-4001-8f28-bda3a4221bf2",
   "metadata": {},
   "outputs": [
    {
     "name": "stdout",
     "output_type": "stream",
     "text": [
      "Printing the first 30th tokens:\n",
      "\n",
      "Ensinamentos    noun                           Ensinamentos   \n",
      "que             pronoun                        que            \n",
      "eu              pronoun                        eu             \n",
      "tive            verb                           ter            \n",
      "quando          subordinating conjunction      quando         \n",
      "li              verb                           ler            \n",
      "o               determiner                     o              \n",
      "livro:1         noun                           livro:1        \n",
      ".               punctuation                    .              \n",
      "Primeiro        adverb                         Primeiro       \n",
      "pague           verb                           pagar          \n",
      "a               adposition                     o              \n",
      "si              pronoun                        si             \n",
      "mesmo           adverb                         mesmo          \n",
      "e               coordinating conjunction       e              \n",
      "depois          adverb                         depois         \n",
      "aos             adposition                     aos            \n",
      "outros          pronoun                        outro          \n",
      ".               punctuation                    .              \n",
      "“Uma            proper noun                    “Uma           \n",
      "parte           noun                           partir         \n",
      "de              adposition                     de             \n",
      "todos           determiner                     todo           \n",
      "os              determiner                     o              \n",
      "seus            determiner                     seu            \n",
      "ganhos          noun                           ganho          \n",
      "pertencem       verb                           pertencer      \n",
      "exclusivamente  adverb                         exclusivamente \n",
      "a               determiner                     o              \n",
      "você            noun                           você           \n"
     ]
    }
   ],
   "source": [
    "totalTokensToPrint = 30\n",
    "\n",
    "print( f'Printing the first {totalTokensToPrint}th tokens:\\n' )\n",
    "\n",
    "for token in doc[0:totalTokensToPrint]:\n",
    "    print( f'{token.text:{15}} {spacy.explain(token.pos_):{30}} {token.lemma_:{15}}' )"
   ]
  },
  {
   "cell_type": "code",
   "execution_count": 27,
   "id": "799ae47f-a3c6-4485-9433-96fcffbb2d19",
   "metadata": {},
   "outputs": [
    {
     "name": "stdout",
     "output_type": "stream",
     "text": [
      "Ensinamentos que eu tive quando li o livro:1.\n",
      "--- Sentence size: 9\n",
      "\n",
      "Primeiro pague a si mesmo e depois aos outros.\n",
      "--- Sentence size: 10\n",
      "\n",
      "“Uma parte de todos os seus ganhos pertencem exclusivamente a você.\n",
      "--- Sentence size: 12\n",
      "\n",
      "”Quando trabalhamos e recebemos o dinheiro, é essencial que peguemos uma parte para guardar.\n",
      "--- Sentence size: 16\n",
      "\n",
      "No livro se fala que se você ganha 10 moedas, você precisa guardar pelo menos uma.\n",
      "--- Sentence size: 18\n",
      "\n",
      "As outras 9 moedas você pode gastar.\n",
      "--- Sentence size: 8\n",
      "\n",
      "Mas quando se diz em gastar, estão falando das coisas que realmente precisamos ter.\n",
      "--- Sentence size: 16\n",
      "\n",
      "Gastar com necessidades, e não com desejos.\n",
      "--- Sentence size: 9\n",
      "\n",
      "Precisamos gastar menos do que ganhamos.2.\n",
      "--- Sentence size: 7\n",
      "\n",
      "Controle os seus gastos.\n",
      "--- Sentence size: 5\n",
      "\n",
      "Muitas pessoas acham que o salário que ganham não é o suficiente para pagar as contas do mês, quem dirá conseguir guardar um dinheiro.\n",
      "--- Sentence size: 26\n",
      "\n",
      "Por isso, precisamos saber exatamente no que gastamos.\n",
      "--- Sentence size: 10\n",
      "\n",
      "É necessário examinar cuidadosamente seu habitual modo de viver, para isso, é fundamental anotar as suas despesas, fazer um orçamento para saber o que é essencial é o que pode ser cortado.3.\n",
      "--- Sentence size: 36\n",
      "\n",
      "Multiplique o seu dinheiro.\n",
      "--- Sentence size: 5\n",
      "\n",
      "Depois que você conseguir guardar o seu dinheiro, chegou a hora de multiplicado-lo e fazer com que ele trabalhe para você.\n",
      "--- Sentence size: 23\n",
      "\n",
      "É importante investir o seu dinheiro, não deixá-lo parado, para assim acumular a riqueza mais facilmente.\n",
      "--- Sentence size: 19\n",
      "\n",
      "Pegue suas economias para que elas possam lhe gerar frutos, e então reinvista os frutos.\n",
      "--- Sentence size: 17\n",
      "\n",
      "Não adianta só poupar, devemos investir.4.\n",
      "--- Sentence size: 8\n",
      "\n",
      "Assegure uma renda para o futuro.\n",
      "--- Sentence size: 7\n",
      "\n",
      " É essencial que tenhamos um dinheiro guardado para aproveitar a aposentadoria.\n",
      "--- Sentence size: 13\n",
      "\n",
      "Devemos guardar uma parte do que ganhamos para tal fato, ter uma reserva de emergência e colocarmos metas para cumpri-la.5.\n",
      "--- Sentence size: 22\n",
      "\n",
      "Não seja um procrastinador.\n",
      "--- Sentence size: 5\n",
      "\n",
      "Devemos focar em nossos objetivos.\n",
      "--- Sentence size: 6\n",
      "\n",
      "Muitas pessoas querem ganhar dinheiro, porém, ficam inertes.\n",
      "--- Sentence size: 11\n",
      "\n",
      "Para se alcançar a riqueza, é necessário correr atrás dela, ter o poder da ação.\n",
      "--- Sentence size: 18\n",
      "\n",
      "Pessoas procrastinadoras deixam tudo para a última hora, acham que ainda são novas para guardar dinheiro e querem aproveitar a vida, mas quando o tempo passa percebem que cometeram um erro, o erro de não se movimentar.\n",
      "--- Sentence size: 41\n",
      "\n",
      "“Os homens de ação são favorecidos pela deusa da boa sorte”.6.Saiba aonde investir  \n",
      "--- Sentence size: 15\n",
      "\n",
      "“Proteja seu tesouro contra a perda”\n",
      "--- Sentence size: 8\n",
      "\n",
      "É necessário saber aonde investir os seus frutos, devemos diversificar os investimentos, e não colocar o dinheiro em um só lugar.\n",
      "--- Sentence size: 24\n",
      "\n",
      "Em uma passagem do livro, se fala que não devemos investir naquilo que não conhecemos e que não devemos confiar cegamente em nossos próprios conhecimentos.\n",
      "--- Sentence size: 27\n",
      "\n",
      "Devemos seguir a opinião daqueles que lidam habitualmente com o dinheiro, pessoas em quem confiamos.\n",
      "--- Sentence size: 17\n",
      "\n",
      "Temos que ter segurança, pois é isso que buscamos.7.Alcance uma maneira de ganhar mais dinheiro  Devemos sempre nos aprimorar em nossa profissão, procurar cursos e buscar a excelência para assim podermos ganhar mais dinheiro.\n",
      "--- Sentence size: 38\n",
      "\n",
      "Estude, pesquise, pense em coisas novas para alcançar o seu objetivo.\n",
      "--- Sentence size: 14\n",
      "\n",
      "Sempre devemos buscar melhores resultados.8.\n",
      "--- Sentence size: 6\n",
      "\n",
      "Ninguém é dono de todo conhecimento .\n",
      "--- Sentence size: 7\n",
      "\n",
      " \n",
      "--- Sentence size: 1\n",
      "\n",
      "Devemos sempre nos aperfeiçoar e aprender com pessoas que sabem e possuem mais conhecimento, é importante estar ao lado de pessoas que tem algo a nos ensinar e acrescentar em nossas vidas.\n",
      "--- Sentence size: 34\n",
      "\n"
     ]
    }
   ],
   "source": [
    "for sentence in doc.sents:\n",
    "    \n",
    "    print( f'{sentence}' )\n",
    "    print( f'--- Sentence size: {len(sentence)}' )\n",
    "    print()"
   ]
  },
  {
   "cell_type": "markdown",
   "id": "2d6eeb41-00f3-4bb3-b678-0b3a92e8fb48",
   "metadata": {
    "tags": []
   },
   "source": [
    "## Building a dataframe of sentences and building a new dataset of sentences."
   ]
  },
  {
   "cell_type": "code",
   "execution_count": 28,
   "id": "c0e11962-981b-453c-9fd7-1b2629d7221b",
   "metadata": {},
   "outputs": [],
   "source": [
    "# # For time counting\n",
    "# startTime = time.time()\n",
    "\n",
    "# csvFile = './datasets/sentences.csv'\n",
    "# csvDF = pd.DataFrame(columns = [\n",
    "#     'book_id', \n",
    "#     'review_id', \n",
    "#     'review_rating', \n",
    "#     'sentence'\n",
    "# ]) \n",
    "\n",
    "# for index in tqdm( range(0, len(df)), desc=\"Progress\", ncols=100 ):\n",
    "    \n",
    "#     review = df.iloc[index]\n",
    "        \n",
    "#     doc = nlp( u''.join( review['review_text'] ) )\n",
    "    \n",
    "#     for sentence in doc.sents:\n",
    "    \n",
    "#         row = {\n",
    "#             'book_id': review['book_id'],\n",
    "#             'review_id': review['review_id'],\n",
    "#             'review_rating': review['review_rating'],\n",
    "#             'sentence': sentence\n",
    "#         }\n",
    "#         csvDF.loc[ len(csvDF), csvDF.columns ] = row\n",
    "        \n",
    "# csvDF.to_csv(\n",
    "#     csvFile, \n",
    "#     encoding = 'utf-8', \n",
    "#     index = False,\n",
    "#     sep=';'\n",
    "# )\n",
    "\n",
    "# print('======================================================================')\n",
    "# print('Finished')\n",
    "\n",
    "# # For time counting\n",
    "# endTime = time.time()\n",
    "# elapsedTime = endTime - startTime\n",
    "# print( f'Running Time: {elapsedTime / 60} minutes' )"
   ]
  }
 ],
 "metadata": {
  "kernelspec": {
   "display_name": "Python 3 (ipykernel)",
   "language": "python",
   "name": "python3"
  },
  "language_info": {
   "codemirror_mode": {
    "name": "ipython",
    "version": 3
   },
   "file_extension": ".py",
   "mimetype": "text/x-python",
   "name": "python",
   "nbconvert_exporter": "python",
   "pygments_lexer": "ipython3",
   "version": "3.8.10"
  },
  "toc-autonumbering": true
 },
 "nbformat": 4,
 "nbformat_minor": 5
}
